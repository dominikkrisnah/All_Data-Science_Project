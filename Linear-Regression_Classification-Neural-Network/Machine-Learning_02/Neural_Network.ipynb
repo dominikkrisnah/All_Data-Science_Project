{
  "cells": [
    {
      "cell_type": "markdown",
      "source": [
        "By: Dominikus Krisna Herlambang | ©2021"
      ],
      "metadata": {
        "id": "i4qehOfPy3B7"
      }
    },
    {
      "cell_type": "code",
      "execution_count": null,
      "metadata": {
        "id": "5v-3zuufSAk7"
      },
      "outputs": [],
      "source": [
        "%matplotlib inline\n",
        "\n",
        "import numpy as np\n",
        "import pandas as pd\n",
        "from sklearn.utils import shuffle\n",
        "import matplotlib.pyplot as plt"
      ]
    },
    {
      "cell_type": "markdown",
      "metadata": {
        "id": "XsJA2CFaSAlB"
      },
      "source": [
        "# Generate Data"
      ]
    },
    {
      "cell_type": "markdown",
      "metadata": {
        "id": "7ZCxBCjHSAlE"
      },
      "source": [
        "## Create Dummy Data 1"
      ]
    },
    {
      "cell_type": "code",
      "execution_count": null,
      "metadata": {
        "id": "LD4AMuXvSAlE"
      },
      "outputs": [],
      "source": [
        "# Height\n",
        "x1 = np.array([18 + 1*np.random.randn() for i in range(1,100)])\n",
        "# Weight\n",
        "x2 = np.array([5 + 1*np.random.randn() for i in range(1,100)])\n",
        "# Dummy data\n",
        "y1 = np.array([1 for i in range(1,100)])\n",
        "# Status Dummy Data\n",
        "y2 = np.array([0 for i in range(1,100)])\n",
        "# Lable\n",
        "label = [\"dominik\" for i in range(1,100)]\n",
        "\n",
        "# Data compilation\n",
        "data_dominik = {\n",
        "    'x1':x1,\n",
        "    'x2':x2,\n",
        "    'y1':y1,\n",
        "    'y2':y2,\n",
        "    'label':label,\n",
        "}\n",
        "\n",
        "# Data frame\n",
        "data_frame_1 = pd.DataFrame(data=data_dominik)"
      ]
    },
    {
      "cell_type": "code",
      "execution_count": null,
      "metadata": {
        "id": "7YVW2lmmSAlF",
        "outputId": "15e31dcd-5861-4468-adb0-ed3003b99731",
        "colab": {
          "base_uri": "https://localhost:8080/"
        }
      },
      "outputs": [
        {
          "output_type": "stream",
          "name": "stdout",
          "text": [
            "           x1        x2  y1  y2    label\n",
            "0   17.808977  5.431926   1   0  dominik\n",
            "1   18.165895  4.384275   1   0  dominik\n",
            "2   18.723157  5.670054   1   0  dominik\n",
            "3   19.046300  5.182310   1   0  dominik\n",
            "4   18.153525  3.981222   1   0  dominik\n",
            "..        ...       ...  ..  ..      ...\n",
            "94  17.440741  5.008360   1   0  dominik\n",
            "95  16.444584  4.825316   1   0  dominik\n",
            "96  18.859326  6.280459   1   0  dominik\n",
            "97  18.048640  3.432912   1   0  dominik\n",
            "98  17.727643  2.845132   1   0  dominik\n",
            "\n",
            "[99 rows x 5 columns]\n"
          ]
        }
      ],
      "source": [
        "print(data_frame_1)"
      ]
    },
    {
      "cell_type": "markdown",
      "metadata": {
        "id": "FBFJffR8SAlH"
      },
      "source": [
        "## Create Dummy Data 2"
      ]
    },
    {
      "cell_type": "code",
      "execution_count": null,
      "metadata": {
        "id": "SWTgzjUCSAlI"
      },
      "outputs": [],
      "source": [
        "# Height\n",
        "x1 = np.array([10 + 1*np.random.randn() for i in range(1,100)])\n",
        "# Weight\n",
        "x2 = np.array([8 + 1*np.random.randn() for i in range(1,100)])\n",
        "# Dummy Data\n",
        "y1 = np.array([0 for i in range(1,100)])\n",
        "# Status Dummy Data\n",
        "y2 = np.array([1 for i in range(1,100)])\n",
        "# Lable\n",
        "label = [\"krisna\" for i in range(1,100)]\n",
        "\n",
        "# Data compilation\n",
        "data_krisna = {\n",
        "    'x1':x1,\n",
        "    'x2':x2,\n",
        "    'y1':y1,\n",
        "    'y2':y2,\n",
        "    'label':label,\n",
        "}\n",
        "\n",
        "# Data frame\n",
        "data_frame_2 = pd.DataFrame(data=data_krisna)"
      ]
    },
    {
      "cell_type": "code",
      "execution_count": null,
      "metadata": {
        "id": "lG_35ienSAlJ",
        "outputId": "f347195a-77d6-42fb-b803-c78f916e72cd",
        "colab": {
          "base_uri": "https://localhost:8080/"
        }
      },
      "outputs": [
        {
          "output_type": "stream",
          "name": "stdout",
          "text": [
            "           x1        x2  y1  y2   label\n",
            "0   10.681416  7.320545   0   1  krisna\n",
            "1    9.687335  7.799728   0   1  krisna\n",
            "2    9.617921  7.471089   0   1  krisna\n",
            "3   11.228946  8.600982   0   1  krisna\n",
            "4    8.692970  8.733793   0   1  krisna\n",
            "..        ...       ...  ..  ..     ...\n",
            "94   9.665291  7.473189   0   1  krisna\n",
            "95   9.707289  6.000567   0   1  krisna\n",
            "96  10.502979  7.033551   0   1  krisna\n",
            "97  11.083238  6.370271   0   1  krisna\n",
            "98  10.368886  8.691155   0   1  krisna\n",
            "\n",
            "[99 rows x 5 columns]\n"
          ]
        }
      ],
      "source": [
        "print(data_frame_2)"
      ]
    },
    {
      "cell_type": "markdown",
      "metadata": {
        "id": "PcudxN3VSAlK"
      },
      "source": [
        "# Merge Data (Frame_1 & Frame_2)"
      ]
    },
    {
      "cell_type": "code",
      "execution_count": null,
      "metadata": {
        "id": "h-Yf2YKOSAlK"
      },
      "outputs": [],
      "source": [
        "data_frame = pd.concat([data_frame_1,data_frame_2])\n",
        "data_frame = shuffle(data_frame)\n",
        "data_frame.reset_index(inplace=True,drop=True)"
      ]
    },
    {
      "cell_type": "code",
      "execution_count": null,
      "metadata": {
        "id": "3W4ogh_qSAlL",
        "outputId": "b2c09bcd-dd6d-479b-c214-0c551908fb04",
        "colab": {
          "base_uri": "https://localhost:8080/"
        }
      },
      "outputs": [
        {
          "output_type": "stream",
          "name": "stdout",
          "text": [
            "            x1        x2  y1  y2    label\n",
            "0     9.656262  9.843159   0   1   krisna\n",
            "1    10.368886  8.691155   0   1   krisna\n",
            "2    11.271398  9.018231   0   1   krisna\n",
            "3     9.017740  7.588651   0   1   krisna\n",
            "4    17.439492  5.702262   1   0  dominik\n",
            "..         ...       ...  ..  ..      ...\n",
            "193  19.078791  7.143894   1   0  dominik\n",
            "194  16.890762  5.512069   1   0  dominik\n",
            "195   8.272138  7.723144   0   1   krisna\n",
            "196  18.153525  3.981222   1   0  dominik\n",
            "197  18.219942  5.458908   1   0  dominik\n",
            "\n",
            "[198 rows x 5 columns]\n"
          ]
        }
      ],
      "source": [
        "print(data_frame)"
      ]
    },
    {
      "cell_type": "code",
      "execution_count": null,
      "metadata": {
        "id": "GpmIW1aFSAlM",
        "outputId": "e1316ae4-fe31-4087-e316-cfd68bb8c5d9",
        "colab": {
          "base_uri": "https://localhost:8080/",
          "height": 281
        }
      },
      "outputs": [
        {
          "output_type": "display_data",
          "data": {
            "text/plain": [
              "<Figure size 432x288 with 1 Axes>"
            ],
            "image/png": "[encoded data removed]"
          },
          "metadata": {
            "needs_background": "light"
          }
        }
      ],
      "source": [
        "plt.scatter(data_frame_1.x1,data_frame_1.x2,c=\"red\")\n",
        "plt.scatter(data_frame_2.x1,data_frame_2.x2,c=\"green\")\n",
        "plt.title(\"Klasifikasi\")\n",
        "plt.show()"
      ]
    },
    {
      "cell_type": "markdown",
      "metadata": {
        "id": "UJjd1hMvSAlM"
      },
      "source": [
        "# Form of the Resulting Neural Network"
      ]
    },
    {
      "cell_type": "markdown",
      "metadata": {
        "id": "-wv5EbCMSAlM"
      },
      "source": [
        "## 1. Matriks Weight"
      ]
    },
    {
      "cell_type": "code",
      "execution_count": null,
      "metadata": {
        "id": "tT9zizvpSAlN"
      },
      "outputs": [],
      "source": [
        "w11 = np.random.uniform(-0.05,0.05)\n",
        "w12 = np.random.uniform(-0.05,0.05)\n",
        "w21 = np.random.uniform(-0.05,0.05)\n",
        "w22 = np.random.uniform(-0.05,0.05)\n",
        "\n",
        "W = np.array([[w11,w12],[w21,w22]])"
      ]
    },
    {
      "cell_type": "code",
      "execution_count": null,
      "metadata": {
        "id": "ed3pj-U6SAlN",
        "outputId": "f8a49105-68c0-43ed-af92-df2d53adff0a",
        "colab": {
          "base_uri": "https://localhost:8080/"
        }
      },
      "outputs": [
        {
          "output_type": "stream",
          "name": "stdout",
          "text": [
            "[[-0.0121513   0.02069133]\n",
            " [ 0.02502372 -0.01405188]]\n"
          ]
        }
      ],
      "source": [
        "print(W)"
      ]
    },
    {
      "cell_type": "markdown",
      "metadata": {
        "id": "omt1FGmQSAlO"
      },
      "source": [
        "## 2. The resulting Neural Network iterations"
      ]
    },
    {
      "cell_type": "code",
      "source": [
        "def sigmoid(x):\n",
        "    return 1/(1+np.exp(-x))"
      ],
      "metadata": {
        "id": "RBaIwPMeTBRi"
      },
      "execution_count": null,
      "outputs": []
    },
    {
      "cell_type": "code",
      "execution_count": null,
      "metadata": {
        "id": "1f0HTXsvSAlO",
        "outputId": "b24ae346-e6b5-4aa9-ae33-0f7eb7162a22",
        "colab": {
          "base_uri": "https://localhost:8080/"
        }
      },
      "outputs": [
        {
          "output_type": "stream",
          "name": "stdout",
          "text": [
            "index = 0, prediksi = krisna, jawaban = krisna\n",
            "index = 1, prediksi = krisna, jawaban = krisna\n",
            "index = 2, prediksi = krisna, jawaban = krisna\n",
            "index = 3, prediksi = krisna, jawaban = krisna\n",
            "index = 4, prediksi = krisna, jawaban = dominik\n",
            "index = 5, prediksi = krisna, jawaban = krisna\n",
            "index = 6, prediksi = krisna, jawaban = dominik\n",
            "index = 7, prediksi = krisna, jawaban = dominik\n",
            "index = 8, prediksi = dominik, jawaban = dominik\n",
            "index = 9, prediksi = dominik, jawaban = dominik\n",
            "index = 10, prediksi = dominik, jawaban = krisna\n",
            "index = 11, prediksi = dominik, jawaban = dominik\n",
            "index = 12, prediksi = dominik, jawaban = krisna\n",
            "index = 13, prediksi = dominik, jawaban = dominik\n",
            "index = 14, prediksi = dominik, jawaban = dominik\n",
            "index = 15, prediksi = dominik, jawaban = dominik\n",
            "index = 16, prediksi = dominik, jawaban = krisna\n",
            "index = 17, prediksi = dominik, jawaban = dominik\n",
            "index = 18, prediksi = dominik, jawaban = dominik\n",
            "index = 19, prediksi = dominik, jawaban = dominik\n",
            "index = 20, prediksi = dominik, jawaban = krisna\n",
            "index = 21, prediksi = krisna, jawaban = krisna\n",
            "index = 22, prediksi = krisna, jawaban = krisna\n",
            "index = 23, prediksi = krisna, jawaban = krisna\n",
            "index = 24, prediksi = krisna, jawaban = dominik\n",
            "index = 25, prediksi = krisna, jawaban = krisna\n",
            "index = 26, prediksi = krisna, jawaban = krisna\n",
            "index = 27, prediksi = dominik, jawaban = dominik\n",
            "index = 28, prediksi = dominik, jawaban = dominik\n",
            "index = 29, prediksi = dominik, jawaban = dominik\n",
            "index = 30, prediksi = dominik, jawaban = dominik\n",
            "index = 31, prediksi = krisna, jawaban = krisna\n",
            "index = 32, prediksi = krisna, jawaban = krisna\n",
            "index = 33, prediksi = krisna, jawaban = krisna\n",
            "index = 34, prediksi = krisna, jawaban = krisna\n",
            "index = 35, prediksi = dominik, jawaban = dominik\n",
            "index = 36, prediksi = dominik, jawaban = dominik\n",
            "index = 37, prediksi = dominik, jawaban = krisna\n",
            "index = 38, prediksi = krisna, jawaban = krisna\n",
            "index = 39, prediksi = dominik, jawaban = dominik\n",
            "index = 40, prediksi = dominik, jawaban = dominik\n",
            "index = 41, prediksi = dominik, jawaban = dominik\n",
            "index = 42, prediksi = dominik, jawaban = dominik\n",
            "index = 43, prediksi = krisna, jawaban = krisna\n",
            "index = 44, prediksi = dominik, jawaban = dominik\n",
            "index = 45, prediksi = dominik, jawaban = dominik\n",
            "index = 46, prediksi = krisna, jawaban = krisna\n",
            "index = 47, prediksi = dominik, jawaban = dominik\n",
            "index = 48, prediksi = dominik, jawaban = dominik\n",
            "index = 49, prediksi = krisna, jawaban = krisna\n",
            "index = 50, prediksi = dominik, jawaban = dominik\n",
            "index = 51, prediksi = krisna, jawaban = krisna\n",
            "index = 52, prediksi = dominik, jawaban = dominik\n",
            "index = 53, prediksi = dominik, jawaban = dominik\n",
            "index = 54, prediksi = krisna, jawaban = krisna\n",
            "index = 55, prediksi = dominik, jawaban = dominik\n",
            "index = 56, prediksi = dominik, jawaban = dominik\n",
            "index = 57, prediksi = dominik, jawaban = dominik\n",
            "index = 58, prediksi = krisna, jawaban = krisna\n",
            "index = 59, prediksi = dominik, jawaban = dominik\n",
            "index = 60, prediksi = dominik, jawaban = dominik\n",
            "index = 61, prediksi = krisna, jawaban = krisna\n",
            "index = 62, prediksi = krisna, jawaban = krisna\n",
            "index = 63, prediksi = krisna, jawaban = krisna\n",
            "index = 64, prediksi = dominik, jawaban = dominik\n",
            "index = 65, prediksi = krisna, jawaban = krisna\n",
            "index = 66, prediksi = krisna, jawaban = krisna\n",
            "index = 67, prediksi = krisna, jawaban = krisna\n",
            "index = 68, prediksi = krisna, jawaban = krisna\n",
            "index = 69, prediksi = krisna, jawaban = krisna\n",
            "index = 70, prediksi = krisna, jawaban = krisna\n",
            "index = 71, prediksi = krisna, jawaban = krisna\n",
            "index = 72, prediksi = dominik, jawaban = dominik\n",
            "index = 73, prediksi = krisna, jawaban = krisna\n",
            "index = 74, prediksi = krisna, jawaban = krisna\n",
            "index = 75, prediksi = krisna, jawaban = krisna\n",
            "index = 76, prediksi = krisna, jawaban = krisna\n",
            "index = 77, prediksi = krisna, jawaban = krisna\n",
            "index = 78, prediksi = krisna, jawaban = krisna\n",
            "index = 79, prediksi = krisna, jawaban = krisna\n",
            "index = 80, prediksi = dominik, jawaban = dominik\n",
            "index = 81, prediksi = dominik, jawaban = dominik\n",
            "index = 82, prediksi = dominik, jawaban = dominik\n",
            "index = 83, prediksi = krisna, jawaban = krisna\n",
            "index = 84, prediksi = krisna, jawaban = krisna\n",
            "index = 85, prediksi = krisna, jawaban = krisna\n",
            "index = 86, prediksi = dominik, jawaban = dominik\n",
            "index = 87, prediksi = dominik, jawaban = dominik\n",
            "index = 88, prediksi = krisna, jawaban = krisna\n",
            "index = 89, prediksi = dominik, jawaban = dominik\n",
            "index = 90, prediksi = krisna, jawaban = krisna\n",
            "index = 91, prediksi = krisna, jawaban = krisna\n",
            "index = 92, prediksi = dominik, jawaban = dominik\n",
            "index = 93, prediksi = dominik, jawaban = dominik\n",
            "index = 94, prediksi = krisna, jawaban = krisna\n",
            "index = 95, prediksi = dominik, jawaban = dominik\n",
            "index = 96, prediksi = dominik, jawaban = dominik\n",
            "index = 97, prediksi = krisna, jawaban = krisna\n",
            "index = 98, prediksi = dominik, jawaban = dominik\n",
            "index = 99, prediksi = dominik, jawaban = dominik\n",
            "index = 100, prediksi = krisna, jawaban = krisna\n",
            "index = 101, prediksi = dominik, jawaban = dominik\n",
            "index = 102, prediksi = krisna, jawaban = krisna\n",
            "index = 103, prediksi = krisna, jawaban = krisna\n",
            "index = 104, prediksi = dominik, jawaban = dominik\n",
            "index = 105, prediksi = krisna, jawaban = krisna\n",
            "index = 106, prediksi = krisna, jawaban = krisna\n",
            "index = 107, prediksi = dominik, jawaban = dominik\n",
            "index = 108, prediksi = dominik, jawaban = dominik\n",
            "index = 109, prediksi = dominik, jawaban = dominik\n",
            "index = 110, prediksi = dominik, jawaban = dominik\n",
            "index = 111, prediksi = dominik, jawaban = dominik\n",
            "index = 112, prediksi = krisna, jawaban = krisna\n",
            "index = 113, prediksi = dominik, jawaban = dominik\n",
            "index = 114, prediksi = krisna, jawaban = krisna\n",
            "index = 115, prediksi = krisna, jawaban = krisna\n",
            "index = 116, prediksi = krisna, jawaban = krisna\n",
            "index = 117, prediksi = dominik, jawaban = dominik\n",
            "index = 118, prediksi = dominik, jawaban = dominik\n",
            "index = 119, prediksi = dominik, jawaban = dominik\n",
            "index = 120, prediksi = dominik, jawaban = dominik\n",
            "index = 121, prediksi = krisna, jawaban = krisna\n",
            "index = 122, prediksi = krisna, jawaban = krisna\n",
            "index = 123, prediksi = dominik, jawaban = dominik\n",
            "index = 124, prediksi = dominik, jawaban = dominik\n",
            "index = 125, prediksi = krisna, jawaban = krisna\n",
            "index = 126, prediksi = krisna, jawaban = krisna\n",
            "index = 127, prediksi = krisna, jawaban = krisna\n",
            "index = 128, prediksi = krisna, jawaban = krisna\n",
            "index = 129, prediksi = dominik, jawaban = dominik\n",
            "index = 130, prediksi = dominik, jawaban = dominik\n",
            "index = 131, prediksi = dominik, jawaban = dominik\n",
            "index = 132, prediksi = krisna, jawaban = krisna\n",
            "index = 133, prediksi = dominik, jawaban = dominik\n",
            "index = 134, prediksi = krisna, jawaban = krisna\n",
            "index = 135, prediksi = krisna, jawaban = krisna\n",
            "index = 136, prediksi = krisna, jawaban = krisna\n",
            "index = 137, prediksi = dominik, jawaban = dominik\n",
            "index = 138, prediksi = dominik, jawaban = dominik\n",
            "index = 139, prediksi = krisna, jawaban = krisna\n",
            "index = 140, prediksi = krisna, jawaban = krisna\n",
            "index = 141, prediksi = dominik, jawaban = dominik\n",
            "index = 142, prediksi = krisna, jawaban = krisna\n",
            "index = 143, prediksi = dominik, jawaban = dominik\n",
            "index = 144, prediksi = dominik, jawaban = dominik\n",
            "index = 145, prediksi = dominik, jawaban = dominik\n",
            "index = 146, prediksi = krisna, jawaban = krisna\n",
            "index = 147, prediksi = krisna, jawaban = krisna\n",
            "index = 148, prediksi = dominik, jawaban = dominik\n",
            "index = 149, prediksi = krisna, jawaban = krisna\n",
            "index = 150, prediksi = dominik, jawaban = dominik\n",
            "index = 151, prediksi = krisna, jawaban = krisna\n",
            "index = 152, prediksi = dominik, jawaban = dominik\n",
            "index = 153, prediksi = dominik, jawaban = dominik\n",
            "index = 154, prediksi = dominik, jawaban = dominik\n",
            "index = 155, prediksi = dominik, jawaban = dominik\n",
            "index = 156, prediksi = dominik, jawaban = dominik\n",
            "index = 157, prediksi = krisna, jawaban = krisna\n",
            "index = 158, prediksi = dominik, jawaban = dominik\n",
            "index = 159, prediksi = krisna, jawaban = krisna\n",
            "index = 160, prediksi = krisna, jawaban = krisna\n",
            "index = 161, prediksi = krisna, jawaban = krisna\n",
            "index = 162, prediksi = dominik, jawaban = dominik\n",
            "index = 163, prediksi = dominik, jawaban = dominik\n",
            "index = 164, prediksi = dominik, jawaban = dominik\n",
            "index = 165, prediksi = dominik, jawaban = dominik\n",
            "index = 166, prediksi = krisna, jawaban = krisna\n",
            "index = 167, prediksi = dominik, jawaban = dominik\n",
            "index = 168, prediksi = krisna, jawaban = krisna\n",
            "index = 169, prediksi = krisna, jawaban = krisna\n",
            "index = 170, prediksi = krisna, jawaban = krisna\n",
            "index = 171, prediksi = dominik, jawaban = dominik\n",
            "index = 172, prediksi = krisna, jawaban = krisna\n",
            "index = 173, prediksi = dominik, jawaban = dominik\n",
            "index = 174, prediksi = dominik, jawaban = dominik\n",
            "index = 175, prediksi = krisna, jawaban = krisna\n",
            "index = 176, prediksi = krisna, jawaban = krisna\n",
            "index = 177, prediksi = krisna, jawaban = krisna\n",
            "index = 178, prediksi = krisna, jawaban = krisna\n",
            "index = 179, prediksi = krisna, jawaban = krisna\n",
            "index = 180, prediksi = krisna, jawaban = krisna\n",
            "index = 181, prediksi = dominik, jawaban = dominik\n",
            "index = 182, prediksi = dominik, jawaban = dominik\n",
            "index = 183, prediksi = krisna, jawaban = krisna\n",
            "index = 184, prediksi = dominik, jawaban = dominik\n",
            "index = 185, prediksi = krisna, jawaban = krisna\n",
            "index = 186, prediksi = krisna, jawaban = krisna\n",
            "index = 187, prediksi = krisna, jawaban = krisna\n",
            "index = 188, prediksi = dominik, jawaban = dominik\n",
            "index = 189, prediksi = krisna, jawaban = krisna\n",
            "index = 190, prediksi = krisna, jawaban = krisna\n",
            "index = 191, prediksi = dominik, jawaban = dominik\n",
            "index = 192, prediksi = dominik, jawaban = dominik\n",
            "index = 193, prediksi = dominik, jawaban = dominik\n",
            "index = 194, prediksi = dominik, jawaban = dominik\n",
            "index = 195, prediksi = krisna, jawaban = krisna\n",
            "index = 196, prediksi = dominik, jawaban = dominik\n",
            "index = 197, prediksi = dominik, jawaban = dominik\n"
          ]
        }
      ],
      "source": [
        "learning_rate = 0.1\n",
        "answer = []\n",
        "error_array = np.zeros((2,len(data_frame)))\n",
        "for index,baris in data_frame.iterrows():\n",
        "    W_lama = W\n",
        "    input = np.array([[baris.x1],[baris.x2]])\n",
        "    output_hidden = np.dot(W_lama,input)\n",
        "    output_learn = sigmoid(output_hidden)\n",
        "    output_actual = np.array([[baris.y1],[baris.y2]])\n",
        "\n",
        "    error = output_actual - output_learn\n",
        "\n",
        "    delta_W = np.dot(learning_rate*error*output_learn*(1-output_learn),input.T)\n",
        "\n",
        "    W_baru = W_lama + delta_W\n",
        "    W = W_baru\n",
        "\n",
        "    error_array[:,index] = error.T*error.T\n",
        "\n",
        "    prediksi_herlambang = np.argmax(output_learn)\n",
        "    jawaban_herlambang = np.argmax(output_actual)\n",
        "\n",
        "    label_prediksi = \"krisna\" if prediksi_herlambang == 1 else \"dominik\"\n",
        "\n",
        "    print(f\"index = {index}, prediksi = {label_prediksi}, jawaban = {baris.label}\")\n",
        "\n",
        "    if prediksi_herlambang == jawaban_herlambang:\n",
        "        answer.append(1)\n",
        "    else:\n",
        "        answer.append(0)"
      ]
    },
    {
      "cell_type": "code",
      "execution_count": null,
      "metadata": {
        "id": "wvx_clVlSAlP",
        "outputId": "5ff7b8f0-4270-455d-a6a5-a71f6b80688c",
        "colab": {
          "base_uri": "https://localhost:8080/",
          "height": 301
        }
      },
      "outputs": [
        {
          "output_type": "execute_result",
          "data": {
            "text/plain": [
              "[<matplotlib.lines.Line2D at 0x7f8a1a626520>,\n",
              " <matplotlib.lines.Line2D at 0x7f8a1a6264c0>]"
            ]
          },
          "metadata": {},
          "execution_count": 117
        },
        {
          "output_type": "display_data",
          "data": {
            "text/plain": [
              "<Figure size 432x288 with 1 Axes>"
            ],
            "image/png": "[encoded data removed]"
          },
          "metadata": {
            "needs_background": "light"
          }
        }
      ],
      "source": [
        "plt.plot(error_array.T)"
      ]
    },
    {
      "cell_type": "code",
      "execution_count": null,
      "metadata": {
        "id": "I6ifZ0ADSAlP",
        "outputId": "44b22ce7-6f83-43a2-a0e7-777f952e12a6",
        "colab": {
          "base_uri": "https://localhost:8080/",
          "height": 283
        }
      },
      "outputs": [
        {
          "output_type": "execute_result",
          "data": {
            "text/plain": [
              "[<matplotlib.lines.Line2D at 0x7f8a19cd9e50>]"
            ]
          },
          "metadata": {},
          "execution_count": 118
        },
        {
          "output_type": "display_data",
          "data": {
            "text/plain": [
              "<Figure size 432x288 with 1 Axes>"
            ],
            "image/png": "[encoded data removed]"
          },
          "metadata": {
            "needs_background": "light"
          }
        }
      ],
      "source": [
        "plt.plot(answer)"
      ]
    }
  ],
  "metadata": {
    "interpreter": {
      "hash": "cf92aa13fedf815d5c8dd192b8d835913fde3e8bc926b2a0ad6cc74ef2ba3ca2"
    },
    "kernelspec": {
      "display_name": "Python 3.9.2 64-bit",
      "language": "python",
      "name": "python3"
    },
    "language_info": {
      "codemirror_mode": {
        "name": "ipython",
        "version": 3
      },
      "file_extension": ".py",
      "mimetype": "text/x-python",
      "name": "python",
      "nbconvert_exporter": "python",
      "pygments_lexer": "ipython3",
      "version": "3.9.2"
    },
    "orig_nbformat": 4,
    "colab": {
      "provenance": []
    }
  },
  "nbformat": 4,
  "nbformat_minor": 0
}