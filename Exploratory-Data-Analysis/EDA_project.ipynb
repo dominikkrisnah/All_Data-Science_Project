{
  "nbformat": 4,
  "nbformat_minor": 0,
  "metadata": {
    "kernelspec": {
      "display_name": "dsJupyter",
      "language": "python",
      "name": "dsjupytertemplate"
    },
    "language_info": {
      "codemirror_mode": {
        "name": "ipython",
        "version": 3
      },
      "file_extension": ".py",
      "mimetype": "text/x-python",
      "name": "python",
      "nbconvert_exporter": "python",
      "pygments_lexer": "ipython3",
      "version": "3.7.4"
    },
    "colab": {
      "provenance": [],
      "include_colab_link": true
    }
  },
  "cells": [
    {
      "cell_type": "markdown",
      "metadata": {
        "id": "view-in-github",
        "colab_type": "text"
      },
      "source": [
        "<a href=\"https://colab.research.google.com/github/dominikkrisnah/DataScience_MachineLearning_Project/blob/main/Exploratory-Data-Analysis/EDA_project.ipynb\" target=\"_parent\"><img src=\"https://colab.research.google.com/assets/colab-badge.svg\" alt=\"Open In Colab\"/></a>"
      ]
    },
    {
      "cell_type": "markdown",
      "source": [
        "By: Dominikus Krisna Herlambang | ©2022"
      ],
      "metadata": {
        "id": "OSkVWDaahh-r"
      }
    },
    {
      "cell_type": "code",
      "metadata": {
        "ExecuteTime": {
          "end_time": "2020-08-29T04:35:22.605758Z",
          "start_time": "2020-08-29T04:35:22.483778Z"
        },
        "id": "FCAHqFN_Wcnb"
      },
      "source": [
        "import numpy as np\n",
        "import pandas as pd\n",
        "import matplotlib.pyplot as plt\n",
        "import seaborn as sns"
      ],
      "execution_count": null,
      "outputs": []
    },
    {
      "cell_type": "markdown",
      "metadata": {
        "id": "Ahp0IZElWcnb"
      },
      "source": [
        "## Changing matplotlib default parameters\n",
        "The matplotlib default parameters can be changed with rcParams as follows (optional: plot aesthetics)\n"
      ]
    },
    {
      "cell_type": "code",
      "metadata": {
        "ExecuteTime": {
          "end_time": "2020-08-29T04:35:23.229059Z",
          "start_time": "2020-08-29T04:35:23.214079Z"
        },
        "id": "ULs8_FOiWcnb"
      },
      "source": [
        "from matplotlib import rcParams\n",
        "\n",
        "rcParams['figure.figsize'] = (12, 4)\n",
        "rcParams['lines.linewidth'] = 3\n",
        "rcParams['xtick.labelsize'] = 'small'\n",
        "rcParams['ytick.labelsize'] = 'small'"
      ],
      "execution_count": null,
      "outputs": []
    },
    {
      "cell_type": "markdown",
      "metadata": {
        "id": "gFqDHXnkWcnb"
      },
      "source": [
        "## Load dataset"
      ]
    },
    {
      "cell_type": "markdown",
      "metadata": {
        "id": "Z3j9jQQYWcnb"
      },
      "source": [
        "For our hands-on we will look at a synthetic dataset of baldness prediction. To keep the running time short, this time we will only take a sample of 1000 rows of data."
      ]
    },
    {
      "cell_type": "code",
      "metadata": {
        "ExecuteTime": {
          "end_time": "2020-08-29T04:35:24.161264Z",
          "start_time": "2020-08-29T04:35:23.966992Z"
        },
        "id": "enaTJCbmWcnb"
      },
      "source": [
        "# change file path if necessary\n",
        "df = pd.read_csv('data-projcet/botak.csv').sample(1000, random_state=42)"
      ],
      "execution_count": null,
      "outputs": []
    },
    {
      "cell_type": "markdown",
      "metadata": {
        "id": "XGx3fpRKWcnb"
      },
      "source": [
        "## Descriptive Statistics\n",
        "### Checking columns and missing values ​​with `df.info()`"
      ]
    },
    {
      "cell_type": "markdown",
      "metadata": {
        "id": "5i0I3cfZWcnb"
      },
      "source": [
        "The first thing that is usually done in EDA is to check the data type of each column and the number of missing values. We can do this by using `df.info()`."
      ]
    },
    {
      "cell_type": "code",
      "metadata": {
        "ExecuteTime": {
          "end_time": "2020-08-29T04:35:25.695391Z",
          "start_time": "2020-08-29T04:35:25.649431Z"
        },
        "scrolled": true,
        "id": "7RfJI0fnWcnb",
        "colab": {
          "base_uri": "https://localhost:8080/"
        },
        "outputId": "6f0555f4-49fb-43c3-e5da-d17a1d333505"
      },
      "source": [
        "df.info()"
      ],
      "execution_count": null,
      "outputs": [
        {
          "output_type": "stream",
          "name": "stdout",
          "text": [
            "<class 'pandas.core.frame.DataFrame'>\n",
            "Int64Index: 1000 entries, 1142 to 7212\n",
            "Data columns (total 13 columns):\n",
            " #   Column         Non-Null Count  Dtype  \n",
            "---  ------         --------------  -----  \n",
            " 0   umur           1000 non-null   float64\n",
            " 1   jenis_kelamin  1000 non-null   object \n",
            " 2   pekerjaan      986 non-null    object \n",
            " 3   provinsi       1000 non-null   object \n",
            " 4   gaji           1000 non-null   float64\n",
            " 5   is_menikah     1000 non-null   int64  \n",
            " 6   is_keturunan   997 non-null    float64\n",
            " 7   berat          1000 non-null   float64\n",
            " 8   tinggi         1000 non-null   float64\n",
            " 9   sampo          1000 non-null   object \n",
            " 10  is_merokok     1000 non-null   int64  \n",
            " 11  pendidikan     1000 non-null   object \n",
            " 12  botak_prob     1000 non-null   float64\n",
            "dtypes: float64(6), int64(2), object(5)\n",
            "memory usage: 109.4+ KB\n"
          ]
        }
      ]
    },
    {
      "cell_type": "markdown",
      "metadata": {
        "id": "c5yhcpExWcnc"
      },
      "source": [
        "We can see that:\n",
        "* The dataframe has a total of 1000 rows and 13 columns\n",
        "* The dataframe still has *null* values ​​in the `pekerja` and `jenis_kelamin` columns\n",
        "* The modeling target is the `bald_prob` column with a data type of `float64`\n",
        "* This means that the rest are *features* (predictors)\n",
        "\n",
        "From the information above, we can separate the categorical and numerical columns as follows:"
      ]
    },
    {
      "cell_type": "code",
      "metadata": {
        "ExecuteTime": {
          "end_time": "2020-08-29T00:32:04.700005Z",
          "start_time": "2020-08-29T00:32:04.696008Z"
        },
        "id": "UbKney-6Wcnc"
      },
      "source": [
        "# best practice\n",
        "cats = ['jenis_kelamin', 'pekerjaan', 'sampo', 'pendidikan', 'provinsi']\n",
        "nums = ['umur', 'gaji', 'is_menikah', 'is_keturunan', 'berat', 'tinggi', 'is_merokok', 'botak_prob']"
      ],
      "execution_count": null,
      "outputs": []
    },
    {
      "cell_type": "markdown",
      "metadata": {
        "id": "Q7lgvwtNWcnc"
      },
      "source": [
        "Storing column names based on the *numeric* and *categorical* types as above is not mandatory, but it will make some processes easier in the future."
      ]
    },
    {
      "cell_type": "markdown",
      "metadata": {
        "id": "6bOquij0Wcnc"
      },
      "source": [
        "### Sampling to understand data with `df.sample()`"
      ]
    },
    {
      "cell_type": "markdown",
      "metadata": {
        "id": "duQ19hmcWcnc"
      },
      "source": [
        "After knowing what columns are in the dataset, we do sampling to make sure the contents of the columns are as expected. Make sure to do this several times because often if there is an oddity it will not come out on the first sampling.\n",
        "\n",
        "Sampling can be done using `df.sample()`"
      ]
    },
    {
      "cell_type": "code",
      "metadata": {
        "ExecuteTime": {
          "end_time": "2020-08-29T04:36:13.934642Z",
          "start_time": "2020-08-29T04:36:13.906657Z"
        },
        "scrolled": true,
        "id": "T2c32UrTWcnc",
        "colab": {
          "base_uri": "https://localhost:8080/",
          "height": 320
        },
        "outputId": "57a9df0c-d633-48b1-b494-940f1c0464ef"
      },
      "source": [
        "df.sample(5)"
      ],
      "execution_count": null,
      "outputs": [
        {
          "output_type": "execute_result",
          "data": {
            "text/plain": [
              "      umur jenis_kelamin       pekerjaan     provinsi          gaji  \\\n",
              "6915  31.0     Perempuan  Pegawai swasta  Banjarmasin  1.422261e+07   \n",
              "1018  39.0     Perempuan  Pegawai swasta    Pekanbaru  5.997825e+06   \n",
              "1966  37.0     Perempuan             PNS    Pontianak  6.479915e+06   \n",
              "7151  29.0     Laki-laki  Pegawai swasta    Pekanbaru  8.885055e+06   \n",
              "1103  38.0     Perempuan  Pegawai swasta         Palu  5.934515e+06   \n",
              "\n",
              "      is_menikah  is_keturunan      berat      tinggi            sampo  \\\n",
              "6915           0           0.0  67.854187  159.103708          Pantone   \n",
              "1018           0           0.0  49.998701  158.307929          Merpati   \n",
              "1966           0           0.0  52.889259  152.292695          Merpati   \n",
              "7151           0           0.0  44.320597  152.342323          Merpati   \n",
              "1103           0           0.0  54.416130  156.780095  Shoulder & Head   \n",
              "\n",
              "      is_merokok pendidikan  botak_prob  \n",
              "6915           1         S1    0.228288  \n",
              "1018           0         S1    0.137224  \n",
              "1966           1        SMA    0.369387  \n",
              "7151           0         S1    0.200906  \n",
              "1103           0         S1    0.118384  "
            ],
            "text/html": [
              "\n",
              "  <div id=\"df-3eec68b9-8360-437b-a485-8fe83c1ee3d9\">\n",
              "    <div class=\"colab-df-container\">\n",
              "      <div>\n",
              "<style scoped>\n",
              "    .dataframe tbody tr th:only-of-type {\n",
              "        vertical-align: middle;\n",
              "    }\n",
              "\n",
              "    .dataframe tbody tr th {\n",
              "        vertical-align: top;\n",
              "    }\n",
              "\n",
              "    .dataframe thead th {\n",
              "        text-align: right;\n",
              "    }\n",
              "</style>\n",
              "<table border=\"1\" class=\"dataframe\">\n",
              "  <thead>\n",
              "    <tr style=\"text-align: right;\">\n",
              "      <th></th>\n",
              "      <th>umur</th>\n",
              "      <th>jenis_kelamin</th>\n",
              "      <th>pekerjaan</th>\n",
              "      <th>provinsi</th>\n",
              "      <th>gaji</th>\n",
              "      <th>is_menikah</th>\n",
              "      <th>is_keturunan</th>\n",
              "      <th>berat</th>\n",
              "      <th>tinggi</th>\n",
              "      <th>sampo</th>\n",
              "      <th>is_merokok</th>\n",
              "      <th>pendidikan</th>\n",
              "      <th>botak_prob</th>\n",
              "    </tr>\n",
              "  </thead>\n",
              "  <tbody>\n",
              "    <tr>\n",
              "      <th>6915</th>\n",
              "      <td>31.0</td>\n",
              "      <td>Perempuan</td>\n",
              "      <td>Pegawai swasta</td>\n",
              "      <td>Banjarmasin</td>\n",
              "      <td>1.422261e+07</td>\n",
              "      <td>0</td>\n",
              "      <td>0.0</td>\n",
              "      <td>67.854187</td>\n",
              "      <td>159.103708</td>\n",
              "      <td>Pantone</td>\n",
              "      <td>1</td>\n",
              "      <td>S1</td>\n",
              "      <td>0.228288</td>\n",
              "    </tr>\n",
              "    <tr>\n",
              "      <th>1018</th>\n",
              "      <td>39.0</td>\n",
              "      <td>Perempuan</td>\n",
              "      <td>Pegawai swasta</td>\n",
              "      <td>Pekanbaru</td>\n",
              "      <td>5.997825e+06</td>\n",
              "      <td>0</td>\n",
              "      <td>0.0</td>\n",
              "      <td>49.998701</td>\n",
              "      <td>158.307929</td>\n",
              "      <td>Merpati</td>\n",
              "      <td>0</td>\n",
              "      <td>S1</td>\n",
              "      <td>0.137224</td>\n",
              "    </tr>\n",
              "    <tr>\n",
              "      <th>1966</th>\n",
              "      <td>37.0</td>\n",
              "      <td>Perempuan</td>\n",
              "      <td>PNS</td>\n",
              "      <td>Pontianak</td>\n",
              "      <td>6.479915e+06</td>\n",
              "      <td>0</td>\n",
              "      <td>0.0</td>\n",
              "      <td>52.889259</td>\n",
              "      <td>152.292695</td>\n",
              "      <td>Merpati</td>\n",
              "      <td>1</td>\n",
              "      <td>SMA</td>\n",
              "      <td>0.369387</td>\n",
              "    </tr>\n",
              "    <tr>\n",
              "      <th>7151</th>\n",
              "      <td>29.0</td>\n",
              "      <td>Laki-laki</td>\n",
              "      <td>Pegawai swasta</td>\n",
              "      <td>Pekanbaru</td>\n",
              "      <td>8.885055e+06</td>\n",
              "      <td>0</td>\n",
              "      <td>0.0</td>\n",
              "      <td>44.320597</td>\n",
              "      <td>152.342323</td>\n",
              "      <td>Merpati</td>\n",
              "      <td>0</td>\n",
              "      <td>S1</td>\n",
              "      <td>0.200906</td>\n",
              "    </tr>\n",
              "    <tr>\n",
              "      <th>1103</th>\n",
              "      <td>38.0</td>\n",
              "      <td>Perempuan</td>\n",
              "      <td>Pegawai swasta</td>\n",
              "      <td>Palu</td>\n",
              "      <td>5.934515e+06</td>\n",
              "      <td>0</td>\n",
              "      <td>0.0</td>\n",
              "      <td>54.416130</td>\n",
              "      <td>156.780095</td>\n",
              "      <td>Shoulder &amp; Head</td>\n",
              "      <td>0</td>\n",
              "      <td>S1</td>\n",
              "      <td>0.118384</td>\n",
              "    </tr>\n",
              "  </tbody>\n",
              "</table>\n",
              "</div>\n",
              "      <button class=\"colab-df-convert\" onclick=\"convertToInteractive('df-3eec68b9-8360-437b-a485-8fe83c1ee3d9')\"\n",
              "              title=\"Convert this dataframe to an interactive table.\"\n",
              "              style=\"display:none;\">\n",
              "        \n",
              "  <svg xmlns=\"http://www.w3.org/2000/svg\" height=\"24px\"viewBox=\"0 0 24 24\"\n",
              "       width=\"24px\">\n",
              "    <path d=\"M0 0h24v24H0V0z\" fill=\"none\"/>\n",
              "    <path d=\"M18.56 5.44l.94 2.06.94-2.06 2.06-.94-2.06-.94-.94-2.06-.94 2.06-2.06.94zm-11 1L8.5 8.5l.94-2.06 2.06-.94-2.06-.94L8.5 2.5l-.94 2.06-2.06.94zm10 10l.94 2.06.94-2.06 2.06-.94-2.06-.94-.94-2.06-.94 2.06-2.06.94z\"/><path d=\"M17.41 7.96l-1.37-1.37c-.4-.4-.92-.59-1.43-.59-.52 0-1.04.2-1.43.59L10.3 9.45l-7.72 7.72c-.78.78-.78 2.05 0 2.83L4 21.41c.39.39.9.59 1.41.59.51 0 1.02-.2 1.41-.59l7.78-7.78 2.81-2.81c.8-.78.8-2.07 0-2.86zM5.41 20L4 18.59l7.72-7.72 1.47 1.35L5.41 20z\"/>\n",
              "  </svg>\n",
              "      </button>\n",
              "      \n",
              "  <style>\n",
              "    .colab-df-container {\n",
              "      display:flex;\n",
              "      flex-wrap:wrap;\n",
              "      gap: 12px;\n",
              "    }\n",
              "\n",
              "    .colab-df-convert {\n",
              "      background-color: #E8F0FE;\n",
              "      border: none;\n",
              "      border-radius: 50%;\n",
              "      cursor: pointer;\n",
              "      display: none;\n",
              "      fill: #1967D2;\n",
              "      height: 32px;\n",
              "      padding: 0 0 0 0;\n",
              "      width: 32px;\n",
              "    }\n",
              "\n",
              "    .colab-df-convert:hover {\n",
              "      background-color: #E2EBFA;\n",
              "      box-shadow: 0px 1px 2px rgba(60, 64, 67, 0.3), 0px 1px 3px 1px rgba(60, 64, 67, 0.15);\n",
              "      fill: #174EA6;\n",
              "    }\n",
              "\n",
              "    [theme=dark] .colab-df-convert {\n",
              "      background-color: #3B4455;\n",
              "      fill: #D2E3FC;\n",
              "    }\n",
              "\n",
              "    [theme=dark] .colab-df-convert:hover {\n",
              "      background-color: #434B5C;\n",
              "      box-shadow: 0px 1px 3px 1px rgba(0, 0, 0, 0.15);\n",
              "      filter: drop-shadow(0px 1px 2px rgba(0, 0, 0, 0.3));\n",
              "      fill: #FFFFFF;\n",
              "    }\n",
              "  </style>\n",
              "\n",
              "      <script>\n",
              "        const buttonEl =\n",
              "          document.querySelector('#df-3eec68b9-8360-437b-a485-8fe83c1ee3d9 button.colab-df-convert');\n",
              "        buttonEl.style.display =\n",
              "          google.colab.kernel.accessAllowed ? 'block' : 'none';\n",
              "\n",
              "        async function convertToInteractive(key) {\n",
              "          const element = document.querySelector('#df-3eec68b9-8360-437b-a485-8fe83c1ee3d9');\n",
              "          const dataTable =\n",
              "            await google.colab.kernel.invokeFunction('convertToInteractive',\n",
              "                                                     [key], {});\n",
              "          if (!dataTable) return;\n",
              "\n",
              "          const docLinkHtml = 'Like what you see? Visit the ' +\n",
              "            '<a target=\"_blank\" href=https://colab.research.google.com/notebooks/data_table.ipynb>data table notebook</a>'\n",
              "            + ' to learn more about interactive tables.';\n",
              "          element.innerHTML = '';\n",
              "          dataTable['output_type'] = 'display_data';\n",
              "          await google.colab.output.renderOutput(dataTable, element);\n",
              "          const docLink = document.createElement('div');\n",
              "          docLink.innerHTML = docLinkHtml;\n",
              "          element.appendChild(docLink);\n",
              "        }\n",
              "      </script>\n",
              "    </div>\n",
              "  </div>\n",
              "  "
            ]
          },
          "metadata": {},
          "execution_count": 35
        }
      ]
    },
    {
      "cell_type": "markdown",
      "metadata": {
        "id": "Y1r-Zeo4Wcnd"
      },
      "source": [
        "Some observations:\n",
        "* Our target, `bald_prob` is indeed a float with a range of 0-1, where 1 represents 100% probability.\n",
        "* There doesn't seem to be anything strange about the input of each column (it's correct)."
      ]
    },
    {
      "cell_type": "markdown",
      "metadata": {
        "ExecuteTime": {
          "end_time": "2020-08-25T01:13:50.998861Z",
          "start_time": "2020-08-25T01:13:50.995862Z"
        },
        "id": "RigrAOnGWcnd"
      },
      "source": [
        "### Statistical summary with `df.describe()`\n",
        "Next we display the statistical summary of the dataframe, both for numerical and categorical. This is done to briefly check for the presence of outliers and distribution characteristics for numeric `features`."
      ]
    },
    {
      "cell_type": "code",
      "metadata": {
        "ExecuteTime": {
          "end_time": "2020-08-29T04:37:08.229068Z",
          "start_time": "2020-08-29T04:37:08.149086Z"
        },
        "id": "BzK64ajKWcnd",
        "colab": {
          "base_uri": "https://localhost:8080/",
          "height": 300
        },
        "outputId": "90425864-dffe-4d76-930c-58c03f304298"
      },
      "source": [
        "df[nums].describe()"
      ],
      "execution_count": null,
      "outputs": [
        {
          "output_type": "execute_result",
          "data": {
            "text/plain": [
              "              umur          gaji   is_menikah  is_keturunan        berat  \\\n",
              "count  1000.000000  1.000000e+03  1000.000000    997.000000  1000.000000   \n",
              "mean     39.517000  9.338530e+06     0.035000      0.179539    55.960354   \n",
              "std      10.031667  4.816192e+06     0.183872      0.383995     9.441493   \n",
              "min       4.000000  1.990399e+06     0.000000      0.000000    41.754150   \n",
              "25%      33.000000  5.985189e+06     0.000000      0.000000    49.723461   \n",
              "50%      39.000000  8.082501e+06     0.000000      0.000000    53.780701   \n",
              "75%      46.000000  1.162239e+07     0.000000      0.000000    59.645683   \n",
              "max      72.000000  3.713150e+07     1.000000      1.000000   128.643924   \n",
              "\n",
              "            tinggi   is_merokok   botak_prob  \n",
              "count  1000.000000  1000.000000  1000.000000  \n",
              "mean    157.308522     0.485000     0.384868  \n",
              "std       6.550181     0.500025     0.193882  \n",
              "min     138.487317     0.000000    -0.115700  \n",
              "25%     152.782408     0.000000     0.241132  \n",
              "50%     156.979853     0.000000     0.365464  \n",
              "75%     161.242447     1.000000     0.508360  \n",
              "max     193.484937     1.000000     1.000000  "
            ],
            "text/html": [
              "\n",
              "  <div id=\"df-c2514d21-9452-43e0-a698-e06cd49a074e\">\n",
              "    <div class=\"colab-df-container\">\n",
              "      <div>\n",
              "<style scoped>\n",
              "    .dataframe tbody tr th:only-of-type {\n",
              "        vertical-align: middle;\n",
              "    }\n",
              "\n",
              "    .dataframe tbody tr th {\n",
              "        vertical-align: top;\n",
              "    }\n",
              "\n",
              "    .dataframe thead th {\n",
              "        text-align: right;\n",
              "    }\n",
              "</style>\n",
              "<table border=\"1\" class=\"dataframe\">\n",
              "  <thead>\n",
              "    <tr style=\"text-align: right;\">\n",
              "      <th></th>\n",
              "      <th>umur</th>\n",
              "      <th>gaji</th>\n",
              "      <th>is_menikah</th>\n",
              "      <th>is_keturunan</th>\n",
              "      <th>berat</th>\n",
              "      <th>tinggi</th>\n",
              "      <th>is_merokok</th>\n",
              "      <th>botak_prob</th>\n",
              "    </tr>\n",
              "  </thead>\n",
              "  <tbody>\n",
              "    <tr>\n",
              "      <th>count</th>\n",
              "      <td>1000.000000</td>\n",
              "      <td>1.000000e+03</td>\n",
              "      <td>1000.000000</td>\n",
              "      <td>997.000000</td>\n",
              "      <td>1000.000000</td>\n",
              "      <td>1000.000000</td>\n",
              "      <td>1000.000000</td>\n",
              "      <td>1000.000000</td>\n",
              "    </tr>\n",
              "    <tr>\n",
              "      <th>mean</th>\n",
              "      <td>39.517000</td>\n",
              "      <td>9.338530e+06</td>\n",
              "      <td>0.035000</td>\n",
              "      <td>0.179539</td>\n",
              "      <td>55.960354</td>\n",
              "      <td>157.308522</td>\n",
              "      <td>0.485000</td>\n",
              "      <td>0.384868</td>\n",
              "    </tr>\n",
              "    <tr>\n",
              "      <th>std</th>\n",
              "      <td>10.031667</td>\n",
              "      <td>4.816192e+06</td>\n",
              "      <td>0.183872</td>\n",
              "      <td>0.383995</td>\n",
              "      <td>9.441493</td>\n",
              "      <td>6.550181</td>\n",
              "      <td>0.500025</td>\n",
              "      <td>0.193882</td>\n",
              "    </tr>\n",
              "    <tr>\n",
              "      <th>min</th>\n",
              "      <td>4.000000</td>\n",
              "      <td>1.990399e+06</td>\n",
              "      <td>0.000000</td>\n",
              "      <td>0.000000</td>\n",
              "      <td>41.754150</td>\n",
              "      <td>138.487317</td>\n",
              "      <td>0.000000</td>\n",
              "      <td>-0.115700</td>\n",
              "    </tr>\n",
              "    <tr>\n",
              "      <th>25%</th>\n",
              "      <td>33.000000</td>\n",
              "      <td>5.985189e+06</td>\n",
              "      <td>0.000000</td>\n",
              "      <td>0.000000</td>\n",
              "      <td>49.723461</td>\n",
              "      <td>152.782408</td>\n",
              "      <td>0.000000</td>\n",
              "      <td>0.241132</td>\n",
              "    </tr>\n",
              "    <tr>\n",
              "      <th>50%</th>\n",
              "      <td>39.000000</td>\n",
              "      <td>8.082501e+06</td>\n",
              "      <td>0.000000</td>\n",
              "      <td>0.000000</td>\n",
              "      <td>53.780701</td>\n",
              "      <td>156.979853</td>\n",
              "      <td>0.000000</td>\n",
              "      <td>0.365464</td>\n",
              "    </tr>\n",
              "    <tr>\n",
              "      <th>75%</th>\n",
              "      <td>46.000000</td>\n",
              "      <td>1.162239e+07</td>\n",
              "      <td>0.000000</td>\n",
              "      <td>0.000000</td>\n",
              "      <td>59.645683</td>\n",
              "      <td>161.242447</td>\n",
              "      <td>1.000000</td>\n",
              "      <td>0.508360</td>\n",
              "    </tr>\n",
              "    <tr>\n",
              "      <th>max</th>\n",
              "      <td>72.000000</td>\n",
              "      <td>3.713150e+07</td>\n",
              "      <td>1.000000</td>\n",
              "      <td>1.000000</td>\n",
              "      <td>128.643924</td>\n",
              "      <td>193.484937</td>\n",
              "      <td>1.000000</td>\n",
              "      <td>1.000000</td>\n",
              "    </tr>\n",
              "  </tbody>\n",
              "</table>\n",
              "</div>\n",
              "      <button class=\"colab-df-convert\" onclick=\"convertToInteractive('df-c2514d21-9452-43e0-a698-e06cd49a074e')\"\n",
              "              title=\"Convert this dataframe to an interactive table.\"\n",
              "              style=\"display:none;\">\n",
              "        \n",
              "  <svg xmlns=\"http://www.w3.org/2000/svg\" height=\"24px\"viewBox=\"0 0 24 24\"\n",
              "       width=\"24px\">\n",
              "    <path d=\"M0 0h24v24H0V0z\" fill=\"none\"/>\n",
              "    <path d=\"M18.56 5.44l.94 2.06.94-2.06 2.06-.94-2.06-.94-.94-2.06-.94 2.06-2.06.94zm-11 1L8.5 8.5l.94-2.06 2.06-.94-2.06-.94L8.5 2.5l-.94 2.06-2.06.94zm10 10l.94 2.06.94-2.06 2.06-.94-2.06-.94-.94-2.06-.94 2.06-2.06.94z\"/><path d=\"M17.41 7.96l-1.37-1.37c-.4-.4-.92-.59-1.43-.59-.52 0-1.04.2-1.43.59L10.3 9.45l-7.72 7.72c-.78.78-.78 2.05 0 2.83L4 21.41c.39.39.9.59 1.41.59.51 0 1.02-.2 1.41-.59l7.78-7.78 2.81-2.81c.8-.78.8-2.07 0-2.86zM5.41 20L4 18.59l7.72-7.72 1.47 1.35L5.41 20z\"/>\n",
              "  </svg>\n",
              "      </button>\n",
              "      \n",
              "  <style>\n",
              "    .colab-df-container {\n",
              "      display:flex;\n",
              "      flex-wrap:wrap;\n",
              "      gap: 12px;\n",
              "    }\n",
              "\n",
              "    .colab-df-convert {\n",
              "      background-color: #E8F0FE;\n",
              "      border: none;\n",
              "      border-radius: 50%;\n",
              "      cursor: pointer;\n",
              "      display: none;\n",
              "      fill: #1967D2;\n",
              "      height: 32px;\n",
              "      padding: 0 0 0 0;\n",
              "      width: 32px;\n",
              "    }\n",
              "\n",
              "    .colab-df-convert:hover {\n",
              "      background-color: #E2EBFA;\n",
              "      box-shadow: 0px 1px 2px rgba(60, 64, 67, 0.3), 0px 1px 3px 1px rgba(60, 64, 67, 0.15);\n",
              "      fill: #174EA6;\n",
              "    }\n",
              "\n",
              "    [theme=dark] .colab-df-convert {\n",
              "      background-color: #3B4455;\n",
              "      fill: #D2E3FC;\n",
              "    }\n",
              "\n",
              "    [theme=dark] .colab-df-convert:hover {\n",
              "      background-color: #434B5C;\n",
              "      box-shadow: 0px 1px 3px 1px rgba(0, 0, 0, 0.15);\n",
              "      filter: drop-shadow(0px 1px 2px rgba(0, 0, 0, 0.3));\n",
              "      fill: #FFFFFF;\n",
              "    }\n",
              "  </style>\n",
              "\n",
              "      <script>\n",
              "        const buttonEl =\n",
              "          document.querySelector('#df-c2514d21-9452-43e0-a698-e06cd49a074e button.colab-df-convert');\n",
              "        buttonEl.style.display =\n",
              "          google.colab.kernel.accessAllowed ? 'block' : 'none';\n",
              "\n",
              "        async function convertToInteractive(key) {\n",
              "          const element = document.querySelector('#df-c2514d21-9452-43e0-a698-e06cd49a074e');\n",
              "          const dataTable =\n",
              "            await google.colab.kernel.invokeFunction('convertToInteractive',\n",
              "                                                     [key], {});\n",
              "          if (!dataTable) return;\n",
              "\n",
              "          const docLinkHtml = 'Like what you see? Visit the ' +\n",
              "            '<a target=\"_blank\" href=https://colab.research.google.com/notebooks/data_table.ipynb>data table notebook</a>'\n",
              "            + ' to learn more about interactive tables.';\n",
              "          element.innerHTML = '';\n",
              "          dataTable['output_type'] = 'display_data';\n",
              "          await google.colab.output.renderOutput(dataTable, element);\n",
              "          const docLink = document.createElement('div');\n",
              "          docLink.innerHTML = docLinkHtml;\n",
              "          element.appendChild(docLink);\n",
              "        }\n",
              "      </script>\n",
              "    </div>\n",
              "  </div>\n",
              "  "
            ]
          },
          "metadata": {},
          "execution_count": 36
        }
      ]
    },
    {
      "cell_type": "markdown",
      "metadata": {
        "id": "4SceQdfMWcnd"
      },
      "source": [
        "Some observations from the statistical summary of the numeric columns above:\n",
        "* The distribution of values ​​in the `age` column looks normal/symmetric (the mean and median are quite close, and the Q2 value is roughly in the middle of Q1 - Q3).\n",
        "* While the `salary` column seems asymmetric, because the mean > median.\n",
        "* There are rows that have a negative `bald_prob` probability. These rows should be removed in the pre-processing stage later."
      ]
    },
    {
      "cell_type": "code",
      "metadata": {
        "id": "IgfogYgjZSCa",
        "colab": {
          "base_uri": "https://localhost:8080/"
        },
        "outputId": "305c289f-2837-4290-ac06-f9abdb44b763"
      },
      "source": [
        "# number of rows with negative bald_prob\n",
        "df[df['botak_prob']<0].shape[0]"
      ],
      "execution_count": null,
      "outputs": [
        {
          "output_type": "execute_result",
          "data": {
            "text/plain": [
              "7"
            ]
          },
          "metadata": {},
          "execution_count": 37
        }
      ]
    },
    {
      "cell_type": "code",
      "metadata": {
        "ExecuteTime": {
          "end_time": "2020-08-29T00:32:07.456785Z",
          "start_time": "2020-08-29T00:32:07.423804Z"
        },
        "scrolled": false,
        "id": "01tAVWj5Wcnd",
        "colab": {
          "base_uri": "https://localhost:8080/",
          "height": 175
        },
        "outputId": "9871d8cb-578f-4cac-b25d-f501015fbc32"
      },
      "source": [
        "df[cats].describe()"
      ],
      "execution_count": null,
      "outputs": [
        {
          "output_type": "execute_result",
          "data": {
            "text/plain": [
              "       jenis_kelamin       pekerjaan    sampo pendidikan provinsi\n",
              "count           1000             986     1000       1000     1000\n",
              "unique             2               4        5          6       34\n",
              "top        Laki-laki  Pegawai swasta  Merpati         S1  Mataram\n",
              "freq             654             403      225        565       44"
            ],
            "text/html": [
              "\n",
              "  <div id=\"df-eeac69d8-cd6a-4b18-9271-d6949cf0c5ae\">\n",
              "    <div class=\"colab-df-container\">\n",
              "      <div>\n",
              "<style scoped>\n",
              "    .dataframe tbody tr th:only-of-type {\n",
              "        vertical-align: middle;\n",
              "    }\n",
              "\n",
              "    .dataframe tbody tr th {\n",
              "        vertical-align: top;\n",
              "    }\n",
              "\n",
              "    .dataframe thead th {\n",
              "        text-align: right;\n",
              "    }\n",
              "</style>\n",
              "<table border=\"1\" class=\"dataframe\">\n",
              "  <thead>\n",
              "    <tr style=\"text-align: right;\">\n",
              "      <th></th>\n",
              "      <th>jenis_kelamin</th>\n",
              "      <th>pekerjaan</th>\n",
              "      <th>sampo</th>\n",
              "      <th>pendidikan</th>\n",
              "      <th>provinsi</th>\n",
              "    </tr>\n",
              "  </thead>\n",
              "  <tbody>\n",
              "    <tr>\n",
              "      <th>count</th>\n",
              "      <td>1000</td>\n",
              "      <td>986</td>\n",
              "      <td>1000</td>\n",
              "      <td>1000</td>\n",
              "      <td>1000</td>\n",
              "    </tr>\n",
              "    <tr>\n",
              "      <th>unique</th>\n",
              "      <td>2</td>\n",
              "      <td>4</td>\n",
              "      <td>5</td>\n",
              "      <td>6</td>\n",
              "      <td>34</td>\n",
              "    </tr>\n",
              "    <tr>\n",
              "      <th>top</th>\n",
              "      <td>Laki-laki</td>\n",
              "      <td>Pegawai swasta</td>\n",
              "      <td>Merpati</td>\n",
              "      <td>S1</td>\n",
              "      <td>Mataram</td>\n",
              "    </tr>\n",
              "    <tr>\n",
              "      <th>freq</th>\n",
              "      <td>654</td>\n",
              "      <td>403</td>\n",
              "      <td>225</td>\n",
              "      <td>565</td>\n",
              "      <td>44</td>\n",
              "    </tr>\n",
              "  </tbody>\n",
              "</table>\n",
              "</div>\n",
              "      <button class=\"colab-df-convert\" onclick=\"convertToInteractive('df-eeac69d8-cd6a-4b18-9271-d6949cf0c5ae')\"\n",
              "              title=\"Convert this dataframe to an interactive table.\"\n",
              "              style=\"display:none;\">\n",
              "        \n",
              "  <svg xmlns=\"http://www.w3.org/2000/svg\" height=\"24px\"viewBox=\"0 0 24 24\"\n",
              "       width=\"24px\">\n",
              "    <path d=\"M0 0h24v24H0V0z\" fill=\"none\"/>\n",
              "    <path d=\"M18.56 5.44l.94 2.06.94-2.06 2.06-.94-2.06-.94-.94-2.06-.94 2.06-2.06.94zm-11 1L8.5 8.5l.94-2.06 2.06-.94-2.06-.94L8.5 2.5l-.94 2.06-2.06.94zm10 10l.94 2.06.94-2.06 2.06-.94-2.06-.94-.94-2.06-.94 2.06-2.06.94z\"/><path d=\"M17.41 7.96l-1.37-1.37c-.4-.4-.92-.59-1.43-.59-.52 0-1.04.2-1.43.59L10.3 9.45l-7.72 7.72c-.78.78-.78 2.05 0 2.83L4 21.41c.39.39.9.59 1.41.59.51 0 1.02-.2 1.41-.59l7.78-7.78 2.81-2.81c.8-.78.8-2.07 0-2.86zM5.41 20L4 18.59l7.72-7.72 1.47 1.35L5.41 20z\"/>\n",
              "  </svg>\n",
              "      </button>\n",
              "      \n",
              "  <style>\n",
              "    .colab-df-container {\n",
              "      display:flex;\n",
              "      flex-wrap:wrap;\n",
              "      gap: 12px;\n",
              "    }\n",
              "\n",
              "    .colab-df-convert {\n",
              "      background-color: #E8F0FE;\n",
              "      border: none;\n",
              "      border-radius: 50%;\n",
              "      cursor: pointer;\n",
              "      display: none;\n",
              "      fill: #1967D2;\n",
              "      height: 32px;\n",
              "      padding: 0 0 0 0;\n",
              "      width: 32px;\n",
              "    }\n",
              "\n",
              "    .colab-df-convert:hover {\n",
              "      background-color: #E2EBFA;\n",
              "      box-shadow: 0px 1px 2px rgba(60, 64, 67, 0.3), 0px 1px 3px 1px rgba(60, 64, 67, 0.15);\n",
              "      fill: #174EA6;\n",
              "    }\n",
              "\n",
              "    [theme=dark] .colab-df-convert {\n",
              "      background-color: #3B4455;\n",
              "      fill: #D2E3FC;\n",
              "    }\n",
              "\n",
              "    [theme=dark] .colab-df-convert:hover {\n",
              "      background-color: #434B5C;\n",
              "      box-shadow: 0px 1px 3px 1px rgba(0, 0, 0, 0.15);\n",
              "      filter: drop-shadow(0px 1px 2px rgba(0, 0, 0, 0.3));\n",
              "      fill: #FFFFFF;\n",
              "    }\n",
              "  </style>\n",
              "\n",
              "      <script>\n",
              "        const buttonEl =\n",
              "          document.querySelector('#df-eeac69d8-cd6a-4b18-9271-d6949cf0c5ae button.colab-df-convert');\n",
              "        buttonEl.style.display =\n",
              "          google.colab.kernel.accessAllowed ? 'block' : 'none';\n",
              "\n",
              "        async function convertToInteractive(key) {\n",
              "          const element = document.querySelector('#df-eeac69d8-cd6a-4b18-9271-d6949cf0c5ae');\n",
              "          const dataTable =\n",
              "            await google.colab.kernel.invokeFunction('convertToInteractive',\n",
              "                                                     [key], {});\n",
              "          if (!dataTable) return;\n",
              "\n",
              "          const docLinkHtml = 'Like what you see? Visit the ' +\n",
              "            '<a target=\"_blank\" href=https://colab.research.google.com/notebooks/data_table.ipynb>data table notebook</a>'\n",
              "            + ' to learn more about interactive tables.';\n",
              "          element.innerHTML = '';\n",
              "          dataTable['output_type'] = 'display_data';\n",
              "          await google.colab.output.renderOutput(dataTable, element);\n",
              "          const docLink = document.createElement('div');\n",
              "          docLink.innerHTML = docLinkHtml;\n",
              "          element.appendChild(docLink);\n",
              "        }\n",
              "      </script>\n",
              "    </div>\n",
              "  </div>\n",
              "  "
            ]
          },
          "metadata": {},
          "execution_count": 38
        }
      ]
    },
    {
      "cell_type": "markdown",
      "metadata": {
        "id": "F4bMXuioWcnd"
      },
      "source": [
        "Some observations from the statistical summary of the categorical columns above:\n",
        "* The majority of the data is Male (Top column `gender_type` is `Male` with a frequency of 684).\n",
        "* The `province` column has a large number of unique values; it is probably not very useful as a predictor."
      ]
    },
    {
      "cell_type": "markdown",
      "metadata": {
        "id": "Juio7NVFWcnd"
      },
      "source": [
        "## Univariate Analysis\n",
        "After doing a simple analysis of descriptive statistics, now we focus on each column one by one with *Univariate Analysis*"
      ]
    },
    {
      "cell_type": "markdown",
      "metadata": {
        "id": "OQA6nvPjWcnd"
      },
      "source": [
        "### Box plots"
      ]
    },
    {
      "cell_type": "code",
      "metadata": {
        "ExecuteTime": {
          "end_time": "2020-08-29T04:42:08.001602Z",
          "start_time": "2020-08-29T04:42:06.531448Z"
        },
        "scrolled": true,
        "id": "AHFiQSI4Wcnd",
        "colab": {
          "base_uri": "https://localhost:8080/",
          "height": 297
        },
        "outputId": "864a5bb5-b8d2-4f95-a99e-32fa02a0f91e"
      },
      "source": [
        "for i in range(0, len(nums)):\n",
        "    plt.subplot(1, len(nums), i+1)\n",
        "    sns.boxplot(y=df[nums[i]], color='blue', orient='v')\n",
        "    plt.tight_layout()"
      ],
      "execution_count": null,
      "outputs": [
        {
          "output_type": "display_data",
          "data": {
            "text/plain": [
              "<Figure size 864x288 with 8 Axes>"
            ],
            "image/png": "[encoded data removed]"
          },
          "metadata": {
            "needs_background": "light"
          }
        }
      ]
    },
    {
      "cell_type": "markdown",
      "metadata": {
        "id": "eM7NVf00Wcnd"
      },
      "source": [
        "For boxplots, the most important thing we need to pay attention to is the presence of outliers.\n",
        "* Outliers are seen mainly in the `salary`, `weight`, and `height` columns.\n",
        "* From the boxplot, we can see which distributions look a bit *skewed* (not symmetrical) which is indicated by the location of the box far from the center of the Y-axis: `salary`, `weight`, `height`."
      ]
    },
    {
      "cell_type": "markdown",
      "metadata": {
        "ExecuteTime": {
          "end_time": "2020-08-25T01:31:54.648374Z",
          "start_time": "2020-08-25T01:31:54.645375Z"
        },
        "id": "wIJ4xk-sWcnd"
      },
      "source": [
        "### Dist plots"
      ]
    },
    {
      "cell_type": "code",
      "metadata": {
        "ExecuteTime": {
          "end_time": "2020-08-29T04:46:20.960234Z",
          "start_time": "2020-08-29T04:46:18.699139Z"
        },
        "id": "vTq7jD88Wcnd",
        "colab": {
          "base_uri": "https://localhost:8080/",
          "height": 675
        },
        "outputId": "80b2e05f-422f-4584-a352-9b9ba40cccaf"
      },
      "source": [
        "plt.figure(figsize=(12, 5))\n",
        "for i in range(0, len(nums)):\n",
        "    plt.subplot(2, len(nums)//2, i+1)\n",
        "    sns.distplot(df[nums[i]], color='blue')\n",
        "    plt.tight_layout()"
      ],
      "execution_count": null,
      "outputs": [
        {
          "output_type": "stream",
          "name": "stderr",
          "text": [
            "/usr/local/lib/python3.8/dist-packages/seaborn/distributions.py:2619: FutureWarning: `distplot` is a deprecated function and will be removed in a future version. Please adapt your code to use either `displot` (a figure-level function with similar flexibility) or `histplot` (an axes-level function for histograms).\n",
            "  warnings.warn(msg, FutureWarning)\n",
            "/usr/local/lib/python3.8/dist-packages/seaborn/distributions.py:2619: FutureWarning: `distplot` is a deprecated function and will be removed in a future version. Please adapt your code to use either `displot` (a figure-level function with similar flexibility) or `histplot` (an axes-level function for histograms).\n",
            "  warnings.warn(msg, FutureWarning)\n",
            "/usr/local/lib/python3.8/dist-packages/seaborn/distributions.py:2619: FutureWarning: `distplot` is a deprecated function and will be removed in a future version. Please adapt your code to use either `displot` (a figure-level function with similar flexibility) or `histplot` (an axes-level function for histograms).\n",
            "  warnings.warn(msg, FutureWarning)\n",
            "/usr/local/lib/python3.8/dist-packages/seaborn/distributions.py:2619: FutureWarning: `distplot` is a deprecated function and will be removed in a future version. Please adapt your code to use either `displot` (a figure-level function with similar flexibility) or `histplot` (an axes-level function for histograms).\n",
            "  warnings.warn(msg, FutureWarning)\n",
            "/usr/local/lib/python3.8/dist-packages/seaborn/distributions.py:2619: FutureWarning: `distplot` is a deprecated function and will be removed in a future version. Please adapt your code to use either `displot` (a figure-level function with similar flexibility) or `histplot` (an axes-level function for histograms).\n",
            "  warnings.warn(msg, FutureWarning)\n",
            "/usr/local/lib/python3.8/dist-packages/seaborn/distributions.py:2619: FutureWarning: `distplot` is a deprecated function and will be removed in a future version. Please adapt your code to use either `displot` (a figure-level function with similar flexibility) or `histplot` (an axes-level function for histograms).\n",
            "  warnings.warn(msg, FutureWarning)\n",
            "/usr/local/lib/python3.8/dist-packages/seaborn/distributions.py:2619: FutureWarning: `distplot` is a deprecated function and will be removed in a future version. Please adapt your code to use either `displot` (a figure-level function with similar flexibility) or `histplot` (an axes-level function for histograms).\n",
            "  warnings.warn(msg, FutureWarning)\n",
            "/usr/local/lib/python3.8/dist-packages/seaborn/distributions.py:2619: FutureWarning: `distplot` is a deprecated function and will be removed in a future version. Please adapt your code to use either `displot` (a figure-level function with similar flexibility) or `histplot` (an axes-level function for histograms).\n",
            "  warnings.warn(msg, FutureWarning)\n"
          ]
        },
        {
          "output_type": "display_data",
          "data": {
            "text/plain": [
              "<Figure size 864x360 with 8 Axes>"
            ],
            "image/png": "[encoded data removed]"
          },
          "metadata": {
            "needs_background": "light"
          }
        }
      ]
    },
    {
      "cell_type": "markdown",
      "metadata": {
        "id": "YNv0HtEZWcnd"
      },
      "source": [
        "For the distribution plot, the main thing to note is the shape of the distribution:\n",
        "* As we might have guessed when looking at the boxplot above, the `salary`, `weight`, and `height` columns are slightly *skewed*.\n",
        "* This means that we may need to do something to these columns later.\n",
        "* Other than those columns, the distribution looks fairly symmetrical."
      ]
    },
    {
      "cell_type": "markdown",
      "metadata": {
        "id": "CyWdEfDKWcnd"
      },
      "source": [
        "### Count plot (categorical)"
      ]
    },
    {
      "cell_type": "code",
      "metadata": {
        "ExecuteTime": {
          "end_time": "2020-08-29T00:32:14.834179Z",
          "start_time": "2020-08-29T00:32:13.916291Z"
        },
        "scrolled": true,
        "id": "SACYYuBKWcnd",
        "colab": {
          "base_uri": "https://localhost:8080/",
          "height": 496
        },
        "outputId": "b7f62e6e-5702-4559-d014-916bdaaa1261"
      },
      "source": [
        "for i in range(0, len(cats)):\n",
        "    plt.subplot(2, 3, i+1)\n",
        "    sns.countplot(df[cats[i]], color='blue', orient='v')\n",
        "    plt.xticks(rotation=20)\n",
        "    plt.tight_layout()"
      ],
      "execution_count": null,
      "outputs": [
        {
          "output_type": "stream",
          "name": "stderr",
          "text": [
            "/usr/local/lib/python3.8/dist-packages/seaborn/_decorators.py:36: FutureWarning: Pass the following variable as a keyword arg: x. From version 0.12, the only valid positional argument will be `data`, and passing other arguments without an explicit keyword will result in an error or misinterpretation.\n",
            "  warnings.warn(\n",
            "/usr/local/lib/python3.8/dist-packages/seaborn/_decorators.py:36: FutureWarning: Pass the following variable as a keyword arg: x. From version 0.12, the only valid positional argument will be `data`, and passing other arguments without an explicit keyword will result in an error or misinterpretation.\n",
            "  warnings.warn(\n",
            "/usr/local/lib/python3.8/dist-packages/seaborn/_decorators.py:36: FutureWarning: Pass the following variable as a keyword arg: x. From version 0.12, the only valid positional argument will be `data`, and passing other arguments without an explicit keyword will result in an error or misinterpretation.\n",
            "  warnings.warn(\n",
            "/usr/local/lib/python3.8/dist-packages/seaborn/_decorators.py:36: FutureWarning: Pass the following variable as a keyword arg: x. From version 0.12, the only valid positional argument will be `data`, and passing other arguments without an explicit keyword will result in an error or misinterpretation.\n",
            "  warnings.warn(\n",
            "/usr/local/lib/python3.8/dist-packages/seaborn/_decorators.py:36: FutureWarning: Pass the following variable as a keyword arg: x. From version 0.12, the only valid positional argument will be `data`, and passing other arguments without an explicit keyword will result in an error or misinterpretation.\n",
            "  warnings.warn(\n"
          ]
        },
        {
          "output_type": "display_data",
          "data": {
            "text/plain": [
              "<Figure size 864x288 with 5 Axes>"
            ],
            "image/png": "[encoded data removed]"
          },
          "metadata": {
            "needs_background": "light"
          }
        }
      ]
    },
    {
      "cell_type": "markdown",
      "metadata": {
        "id": "3iqVbOyFWcnd"
      },
      "source": [
        "Finally, we look at the count plot for each data. As we observed earlier, the distribution of `education` and `occupation` is dominated by 1-2 values.\n"
      ]
    },
    {
      "cell_type": "markdown",
      "metadata": {
        "id": "na6hG7iJWcne"
      },
      "source": [
        "## Bivariate Analysis"
      ]
    },
    {
      "cell_type": "markdown",
      "metadata": {
        "id": "xR7Sg6NgWcne"
      },
      "source": [
        "After looking at each column individually, we will now look at the relationships between columns. Knowing the relationships between columns can help us choose the most important features and discard redundant features."
      ]
    },
    {
      "cell_type": "markdown",
      "metadata": {
        "id": "qa7EPitBWcne"
      },
      "source": [
        "### Correlation heatmap"
      ]
    },
    {
      "cell_type": "code",
      "metadata": {
        "ExecuteTime": {
          "end_time": "2020-08-29T00:32:15.304922Z",
          "start_time": "2020-08-29T00:32:14.836179Z"
        },
        "id": "Q1KXwJlPWcne",
        "colab": {
          "base_uri": "https://localhost:8080/",
          "height": 385
        },
        "outputId": "844dfee4-fb81-4633-a48a-174444a751a0"
      },
      "source": [
        "plt.figure(figsize=(8, 5))\n",
        "sns.heatmap(df.corr(), cmap='Blues', annot=True, fmt='.2f')"
      ],
      "execution_count": null,
      "outputs": [
        {
          "output_type": "execute_result",
          "data": {
            "text/plain": [
              "<AxesSubplot:>"
            ]
          },
          "metadata": {},
          "execution_count": 40
        },
        {
          "output_type": "display_data",
          "data": {
            "text/plain": [
              "<Figure size 576x360 with 2 Axes>"
            ],
            "image/png": "[encoded data removed]"
          },
          "metadata": {
            "needs_background": "light"
          }
        }
      ]
    },
    {
      "cell_type": "markdown",
      "metadata": {
        "id": "5IV0XEBRWcne"
      },
      "source": [
        "From the correlation heatmap above, it can be seen that:\n",
        "* Our target `bald_prob` has a strong positive correlation with `is_descendant`.\n",
        "* It also has a weak positive correlation with `age`, `is_married`, and `is_smoking`.\n",
        "* `height` also has a strong positive correlation with `weight`. It is possible that these two *features* are redundant."
      ]
    },
    {
      "cell_type": "markdown",
      "metadata": {
        "id": "zGfqMhp0Wcne"
      },
      "source": [
        "## Exploratory Data Analysis (EDA) Conclusion\n",
        "Some things we found from this EDA dataset are:\n",
        "* The data looks valid and there are no major defects.\n",
        "* However, there are still rows with negative target variables, which is impossible, so it needs to be dropped later.\n",
        "* There are also still empty/missing data, which must be taken care of during preprocessing.\n",
        "* There are some slightly skewed distributions, this must be remembered if we want to do something or use a model that requires the assumption of a normal distribution.\n",
        "* Some *features* have a clear correlation with the *target*, they will be used.\n",
        "* Some *features* look completely uncorrelated, they should be ignored.\n",
        "* From the Heatmap: there are features that are highly correlated with each other (weight/height) maybe only one will be used."
      ]
    }
  ]
}