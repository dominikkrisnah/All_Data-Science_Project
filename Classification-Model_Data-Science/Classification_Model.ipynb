{
  "nbformat": 4,
  "nbformat_minor": 0,
  "metadata": {
    "colab": {
      "provenance": []
    },
    "kernelspec": {
      "name": "python3",
      "display_name": "Python 3"
    },
    "language_info": {
      "name": "python"
    }
  },
  "cells": [
    {
      "cell_type": "markdown",
      "source": [
        "By: Dominikus Krisna Herlambang | ©2022"
      ],
      "metadata": {
        "id": "l8jGs0pOhsVX"
      }
    },
    {
      "cell_type": "markdown",
      "source": [
        "### The problem\n",
        "\n",
        "> Churn is an event or behavior of customers switching from a product after (within a certain period of time) subscribing to the product. Products can be goods or services, such as internet networks, telecommunications providers, and the like. In this case, the product being analyzed is a telecommunications company. The churn scheme can be explained in several stages. The first stage is the stage when the customer subscribes to the product. The second stage is routine, or customer behavior or customer feedback on the product used during a certain period. After that, in the third stage, there are two types, retention (re-subscribing) or churn (switching or unsubscribing). Every company definitely wants to minimize churn and maximize retention. One solution that can be used is to use customer churn prediction. With this, the company can find out the characteristics that tend to switch or unsubscribe.\n",
        "\n",
        "### Data Description\n",
        "\n",
        "1. Gender: Customer gender (Male, Female)\n",
        "2. Partner: Customer marital status (yes, no)\n",
        "3. Tenure: Length of subscription (integer; months)\n",
        "4. PhoneService: Does the customer use a telephone (yes, no)\n",
        "5. PaperlessBilling: Does the customer use paperless billing (yes, no)\n",
        "6. MonthlyCharges: Monthly charges (numeric; usd)\n",
        "7. Churn: Does the customer unsubscribe or not (yes, no)\n",
        "\n",
        "> In this case we will predict Churn as a response variable."
      ],
      "metadata": {
        "id": "lyfRqXyZZC7k"
      }
    },
    {
      "cell_type": "markdown",
      "source": [
        "## 1. Import Libraries and Data"
      ],
      "metadata": {
        "id": "oN6bVHHZYzDH"
      }
    },
    {
      "cell_type": "markdown",
      "source": [
        "IMPORT PACKAGES"
      ],
      "metadata": {
        "id": "k_4XyXPuYtMD"
      }
    },
    {
      "cell_type": "code",
      "source": [
        "# Import Package\n",
        "import os\n",
        "import pandas as pd\n",
        "import numpy as np\n",
        "\n",
        "# Package for visualization\n",
        "import matplotlib.pyplot as plt\n",
        "import seaborn as sns\n",
        "\n",
        "# Package for cleaning data, modelling data, dan evaluation model\n",
        "import statsmodels.api as sm\n",
        "from sklearn.preprocessing import LabelEncoder, StandardScaler, MinMaxScaler\n",
        "from sklearn.model_selection import train_test_split, cross_validate, cross_val_score, KFold, GridSearchCV\n",
        "from sklearn.metrics import accuracy_score, precision_score, recall_score, f1_score"
      ],
      "metadata": {
        "id": "HAyVL3QZTd5B"
      },
      "execution_count": null,
      "outputs": []
    },
    {
      "cell_type": "code",
      "source": [
        "# Create a path to identify the directory location\n",
        "path = 'data-project/'"
      ],
      "metadata": {
        "id": "8QJ9dfIpTd1L"
      },
      "execution_count": null,
      "outputs": []
    },
    {
      "cell_type": "markdown",
      "source": [
        "IMPORT DATA"
      ],
      "metadata": {
        "id": "np6HKCauYpaB"
      }
    },
    {
      "cell_type": "code",
      "source": [
        "# Load data\n",
        "df = pd.read_csv(os.path.join(path, \"Churn_Data.csv\"), encoding='utf-8')\n",
        "df.head()"
      ],
      "metadata": {
        "colab": {
          "base_uri": "https://localhost:8080/",
          "height": 206
        },
        "id": "a2LOuEnxTdwp",
        "outputId": "d570b352-23a4-4d43-fb69-3589e9c1d95a"
      },
      "execution_count": null,
      "outputs": [
        {
          "output_type": "execute_result",
          "data": {
            "text/plain": [
              "   gender Partner  tenure PhoneService PaperlessBilling  MonthlyCharges Churn\n",
              "0  Female     Yes       1           No              Yes           29.85    No\n",
              "1    Male      No      34          Yes               No           56.95    No\n",
              "2    Male      No       2          Yes              Yes           53.85   Yes\n",
              "3    Male      No      45           No               No           42.30    No\n",
              "4  Female      No       2          Yes              Yes           70.70   Yes"
            ],
            "text/html": [
              "\n",
              "  <div id=\"df-7190ab0b-3771-4909-a803-570ac21bc8d9\" class=\"colab-df-container\">\n",
              "    <div>\n",
              "<style scoped>\n",
              "    .dataframe tbody tr th:only-of-type {\n",
              "        vertical-align: middle;\n",
              "    }\n",
              "\n",
              "    .dataframe tbody tr th {\n",
              "        vertical-align: top;\n",
              "    }\n",
              "\n",
              "    .dataframe thead th {\n",
              "        text-align: right;\n",
              "    }\n",
              "</style>\n",
              "<table border=\"1\" class=\"dataframe\">\n",
              "  <thead>\n",
              "    <tr style=\"text-align: right;\">\n",
              "      <th></th>\n",
              "      <th>gender</th>\n",
              "      <th>Partner</th>\n",
              "      <th>tenure</th>\n",
              "      <th>PhoneService</th>\n",
              "      <th>PaperlessBilling</th>\n",
              "      <th>MonthlyCharges</th>\n",
              "      <th>Churn</th>\n",
              "    </tr>\n",
              "  </thead>\n",
              "  <tbody>\n",
              "    <tr>\n",
              "      <th>0</th>\n",
              "      <td>Female</td>\n",
              "      <td>Yes</td>\n",
              "      <td>1</td>\n",
              "      <td>No</td>\n",
              "      <td>Yes</td>\n",
              "      <td>29.85</td>\n",
              "      <td>No</td>\n",
              "    </tr>\n",
              "    <tr>\n",
              "      <th>1</th>\n",
              "      <td>Male</td>\n",
              "      <td>No</td>\n",
              "      <td>34</td>\n",
              "      <td>Yes</td>\n",
              "      <td>No</td>\n",
              "      <td>56.95</td>\n",
              "      <td>No</td>\n",
              "    </tr>\n",
              "    <tr>\n",
              "      <th>2</th>\n",
              "      <td>Male</td>\n",
              "      <td>No</td>\n",
              "      <td>2</td>\n",
              "      <td>Yes</td>\n",
              "      <td>Yes</td>\n",
              "      <td>53.85</td>\n",
              "      <td>Yes</td>\n",
              "    </tr>\n",
              "    <tr>\n",
              "      <th>3</th>\n",
              "      <td>Male</td>\n",
              "      <td>No</td>\n",
              "      <td>45</td>\n",
              "      <td>No</td>\n",
              "      <td>No</td>\n",
              "      <td>42.30</td>\n",
              "      <td>No</td>\n",
              "    </tr>\n",
              "    <tr>\n",
              "      <th>4</th>\n",
              "      <td>Female</td>\n",
              "      <td>No</td>\n",
              "      <td>2</td>\n",
              "      <td>Yes</td>\n",
              "      <td>Yes</td>\n",
              "      <td>70.70</td>\n",
              "      <td>Yes</td>\n",
              "    </tr>\n",
              "  </tbody>\n",
              "</table>\n",
              "</div>\n",
              "    <div class=\"colab-df-buttons\">\n",
              "\n",
              "  <div class=\"colab-df-container\">\n",
              "    <button class=\"colab-df-convert\" onclick=\"convertToInteractive('df-7190ab0b-3771-4909-a803-570ac21bc8d9')\"\n",
              "            title=\"Convert this dataframe to an interactive table.\"\n",
              "            style=\"display:none;\">\n",
              "\n",
              "  <svg xmlns=\"http://www.w3.org/2000/svg\" height=\"24px\" viewBox=\"0 -960 960 960\">\n",
              "    <path d=\"M120-120v-720h720v720H120Zm60-500h600v-160H180v160Zm220 220h160v-160H400v160Zm0 220h160v-160H400v160ZM180-400h160v-160H180v160Zm440 0h160v-160H620v160ZM180-180h160v-160H180v160Zm440 0h160v-160H620v160Z\"/>\n",
              "  </svg>\n",
              "    </button>\n",
              "\n",
              "  <style>\n",
              "    .colab-df-container {\n",
              "      display:flex;\n",
              "      gap: 12px;\n",
              "    }\n",
              "\n",
              "    .colab-df-convert {\n",
              "      background-color: #E8F0FE;\n",
              "      border: none;\n",
              "      border-radius: 50%;\n",
              "      cursor: pointer;\n",
              "      display: none;\n",
              "      fill: #1967D2;\n",
              "      height: 32px;\n",
              "      padding: 0 0 0 0;\n",
              "      width: 32px;\n",
              "    }\n",
              "\n",
              "    .colab-df-convert:hover {\n",
              "      background-color: #E2EBFA;\n",
              "      box-shadow: 0px 1px 2px rgba(60, 64, 67, 0.3), 0px 1px 3px 1px rgba(60, 64, 67, 0.15);\n",
              "      fill: #174EA6;\n",
              "    }\n",
              "\n",
              "    .colab-df-buttons div {\n",
              "      margin-bottom: 4px;\n",
              "    }\n",
              "\n",
              "    [theme=dark] .colab-df-convert {\n",
              "      background-color: #3B4455;\n",
              "      fill: #D2E3FC;\n",
              "    }\n",
              "\n",
              "    [theme=dark] .colab-df-convert:hover {\n",
              "      background-color: #434B5C;\n",
              "      box-shadow: 0px 1px 3px 1px rgba(0, 0, 0, 0.15);\n",
              "      filter: drop-shadow(0px 1px 2px rgba(0, 0, 0, 0.3));\n",
              "      fill: #FFFFFF;\n",
              "    }\n",
              "  </style>\n",
              "\n",
              "    <script>\n",
              "      const buttonEl =\n",
              "        document.querySelector('#df-7190ab0b-3771-4909-a803-570ac21bc8d9 button.colab-df-convert');\n",
              "      buttonEl.style.display =\n",
              "        google.colab.kernel.accessAllowed ? 'block' : 'none';\n",
              "\n",
              "      async function convertToInteractive(key) {\n",
              "        const element = document.querySelector('#df-7190ab0b-3771-4909-a803-570ac21bc8d9');\n",
              "        const dataTable =\n",
              "          await google.colab.kernel.invokeFunction('convertToInteractive',\n",
              "                                                    [key], {});\n",
              "        if (!dataTable) return;\n",
              "\n",
              "        const docLinkHtml = 'Like what you see? Visit the ' +\n",
              "          '<a target=\"_blank\" href=https://colab.research.google.com/notebooks/data_table.ipynb>data table notebook</a>'\n",
              "          + ' to learn more about interactive tables.';\n",
              "        element.innerHTML = '';\n",
              "        dataTable['output_type'] = 'display_data';\n",
              "        await google.colab.output.renderOutput(dataTable, element);\n",
              "        const docLink = document.createElement('div');\n",
              "        docLink.innerHTML = docLinkHtml;\n",
              "        element.appendChild(docLink);\n",
              "      }\n",
              "    </script>\n",
              "  </div>\n",
              "\n",
              "\n",
              "<div id=\"df-b9a26791-97da-4724-99c9-f4b1f93c0879\">\n",
              "  <button class=\"colab-df-quickchart\" onclick=\"quickchart('df-b9a26791-97da-4724-99c9-f4b1f93c0879')\"\n",
              "            title=\"Suggest charts\"\n",
              "            style=\"display:none;\">\n",
              "\n",
              "<svg xmlns=\"http://www.w3.org/2000/svg\" height=\"24px\"viewBox=\"0 0 24 24\"\n",
              "     width=\"24px\">\n",
              "    <g>\n",
              "        <path d=\"M19 3H5c-1.1 0-2 .9-2 2v14c0 1.1.9 2 2 2h14c1.1 0 2-.9 2-2V5c0-1.1-.9-2-2-2zM9 17H7v-7h2v7zm4 0h-2V7h2v10zm4 0h-2v-4h2v4z\"/>\n",
              "    </g>\n",
              "</svg>\n",
              "  </button>\n",
              "\n",
              "<style>\n",
              "  .colab-df-quickchart {\n",
              "      --bg-color: #E8F0FE;\n",
              "      --fill-color: #1967D2;\n",
              "      --hover-bg-color: #E2EBFA;\n",
              "      --hover-fill-color: #174EA6;\n",
              "      --disabled-fill-color: #AAA;\n",
              "      --disabled-bg-color: #DDD;\n",
              "  }\n",
              "\n",
              "  [theme=dark] .colab-df-quickchart {\n",
              "      --bg-color: #3B4455;\n",
              "      --fill-color: #D2E3FC;\n",
              "      --hover-bg-color: #434B5C;\n",
              "      --hover-fill-color: #FFFFFF;\n",
              "      --disabled-bg-color: #3B4455;\n",
              "      --disabled-fill-color: #666;\n",
              "  }\n",
              "\n",
              "  .colab-df-quickchart {\n",
              "    background-color: var(--bg-color);\n",
              "    border: none;\n",
              "    border-radius: 50%;\n",
              "    cursor: pointer;\n",
              "    display: none;\n",
              "    fill: var(--fill-color);\n",
              "    height: 32px;\n",
              "    padding: 0;\n",
              "    width: 32px;\n",
              "  }\n",
              "\n",
              "  .colab-df-quickchart:hover {\n",
              "    background-color: var(--hover-bg-color);\n",
              "    box-shadow: 0 1px 2px rgba(60, 64, 67, 0.3), 0 1px 3px 1px rgba(60, 64, 67, 0.15);\n",
              "    fill: var(--button-hover-fill-color);\n",
              "  }\n",
              "\n",
              "  .colab-df-quickchart-complete:disabled,\n",
              "  .colab-df-quickchart-complete:disabled:hover {\n",
              "    background-color: var(--disabled-bg-color);\n",
              "    fill: var(--disabled-fill-color);\n",
              "    box-shadow: none;\n",
              "  }\n",
              "\n",
              "  .colab-df-spinner {\n",
              "    border: 2px solid var(--fill-color);\n",
              "    border-color: transparent;\n",
              "    border-bottom-color: var(--fill-color);\n",
              "    animation:\n",
              "      spin 1s steps(1) infinite;\n",
              "  }\n",
              "\n",
              "  @keyframes spin {\n",
              "    0% {\n",
              "      border-color: transparent;\n",
              "      border-bottom-color: var(--fill-color);\n",
              "      border-left-color: var(--fill-color);\n",
              "    }\n",
              "    20% {\n",
              "      border-color: transparent;\n",
              "      border-left-color: var(--fill-color);\n",
              "      border-top-color: var(--fill-color);\n",
              "    }\n",
              "    30% {\n",
              "      border-color: transparent;\n",
              "      border-left-color: var(--fill-color);\n",
              "      border-top-color: var(--fill-color);\n",
              "      border-right-color: var(--fill-color);\n",
              "    }\n",
              "    40% {\n",
              "      border-color: transparent;\n",
              "      border-right-color: var(--fill-color);\n",
              "      border-top-color: var(--fill-color);\n",
              "    }\n",
              "    60% {\n",
              "      border-color: transparent;\n",
              "      border-right-color: var(--fill-color);\n",
              "    }\n",
              "    80% {\n",
              "      border-color: transparent;\n",
              "      border-right-color: var(--fill-color);\n",
              "      border-bottom-color: var(--fill-color);\n",
              "    }\n",
              "    90% {\n",
              "      border-color: transparent;\n",
              "      border-bottom-color: var(--fill-color);\n",
              "    }\n",
              "  }\n",
              "</style>\n",
              "\n",
              "  <script>\n",
              "    async function quickchart(key) {\n",
              "      const quickchartButtonEl =\n",
              "        document.querySelector('#' + key + ' button');\n",
              "      quickchartButtonEl.disabled = true;  // To prevent multiple clicks.\n",
              "      quickchartButtonEl.classList.add('colab-df-spinner');\n",
              "      try {\n",
              "        const charts = await google.colab.kernel.invokeFunction(\n",
              "            'suggestCharts', [key], {});\n",
              "      } catch (error) {\n",
              "        console.error('Error during call to suggestCharts:', error);\n",
              "      }\n",
              "      quickchartButtonEl.classList.remove('colab-df-spinner');\n",
              "      quickchartButtonEl.classList.add('colab-df-quickchart-complete');\n",
              "    }\n",
              "    (() => {\n",
              "      let quickchartButtonEl =\n",
              "        document.querySelector('#df-b9a26791-97da-4724-99c9-f4b1f93c0879 button');\n",
              "      quickchartButtonEl.style.display =\n",
              "        google.colab.kernel.accessAllowed ? 'block' : 'none';\n",
              "    })();\n",
              "  </script>\n",
              "</div>\n",
              "    </div>\n",
              "  </div>\n"
            ],
            "application/vnd.google.colaboratory.intrinsic+json": {
              "type": "dataframe",
              "variable_name": "df",
              "summary": "{\n  \"name\": \"df\",\n  \"rows\": 7043,\n  \"fields\": [\n    {\n      \"column\": \"gender\",\n      \"properties\": {\n        \"dtype\": \"category\",\n        \"num_unique_values\": 2,\n        \"samples\": [\n          \"Male\",\n          \"Female\"\n        ],\n        \"semantic_type\": \"\",\n        \"description\": \"\"\n      }\n    },\n    {\n      \"column\": \"Partner\",\n      \"properties\": {\n        \"dtype\": \"category\",\n        \"num_unique_values\": 2,\n        \"samples\": [\n          \"No\",\n          \"Yes\"\n        ],\n        \"semantic_type\": \"\",\n        \"description\": \"\"\n      }\n    },\n    {\n      \"column\": \"tenure\",\n      \"properties\": {\n        \"dtype\": \"number\",\n        \"std\": 24,\n        \"min\": 0,\n        \"max\": 72,\n        \"num_unique_values\": 73,\n        \"samples\": [\n          8,\n          40\n        ],\n        \"semantic_type\": \"\",\n        \"description\": \"\"\n      }\n    },\n    {\n      \"column\": \"PhoneService\",\n      \"properties\": {\n        \"dtype\": \"category\",\n        \"num_unique_values\": 2,\n        \"samples\": [\n          \"Yes\",\n          \"No\"\n        ],\n        \"semantic_type\": \"\",\n        \"description\": \"\"\n      }\n    },\n    {\n      \"column\": \"PaperlessBilling\",\n      \"properties\": {\n        \"dtype\": \"category\",\n        \"num_unique_values\": 2,\n        \"samples\": [\n          \"No\",\n          \"Yes\"\n        ],\n        \"semantic_type\": \"\",\n        \"description\": \"\"\n      }\n    },\n    {\n      \"column\": \"MonthlyCharges\",\n      \"properties\": {\n        \"dtype\": \"number\",\n        \"std\": 30.090047097678493,\n        \"min\": 18.25,\n        \"max\": 118.75,\n        \"num_unique_values\": 1585,\n        \"samples\": [\n          48.85,\n          20.05\n        ],\n        \"semantic_type\": \"\",\n        \"description\": \"\"\n      }\n    },\n    {\n      \"column\": \"Churn\",\n      \"properties\": {\n        \"dtype\": \"category\",\n        \"num_unique_values\": 2,\n        \"samples\": [\n          \"Yes\",\n          \"No\"\n        ],\n        \"semantic_type\": \"\",\n        \"description\": \"\"\n      }\n    }\n  ]\n}"
            }
          },
          "metadata": {},
          "execution_count": 5
        }
      ]
    },
    {
      "cell_type": "markdown",
      "source": [
        "From the data above, it can be seen that:\n",
        "\n",
        "x = gender, Partner, tenure, Phone Service, Paperless Billing, Monthly Charges\n",
        "\n",
        "y = Churn"
      ],
      "metadata": {
        "id": "fDmCT4_zYaay"
      }
    },
    {
      "cell_type": "markdown",
      "source": [
        "## 2. Exploratory Data Analysis (EDA)"
      ],
      "metadata": {
        "id": "oXF7kuUuY7Ab"
      }
    },
    {
      "cell_type": "code",
      "source": [
        "# Check the information contained in the data\n",
        "df.info()"
      ],
      "metadata": {
        "colab": {
          "base_uri": "https://localhost:8080/"
        },
        "id": "I5opHyOBTdsR",
        "outputId": "2d10a655-fa68-402c-aac4-7f90c38da02c"
      },
      "execution_count": null,
      "outputs": [
        {
          "output_type": "stream",
          "name": "stdout",
          "text": [
            "<class 'pandas.core.frame.DataFrame'>\n",
            "RangeIndex: 7043 entries, 0 to 7042\n",
            "Data columns (total 7 columns):\n",
            " #   Column            Non-Null Count  Dtype  \n",
            "---  ------            --------------  -----  \n",
            " 0   gender            7043 non-null   object \n",
            " 1   Partner           7043 non-null   object \n",
            " 2   tenure            7043 non-null   int64  \n",
            " 3   PhoneService      7043 non-null   object \n",
            " 4   PaperlessBilling  7043 non-null   object \n",
            " 5   MonthlyCharges    7043 non-null   float64\n",
            " 6   Churn             7043 non-null   object \n",
            "dtypes: float64(1), int64(1), object(5)\n",
            "memory usage: 385.3+ KB\n"
          ]
        }
      ]
    },
    {
      "cell_type": "markdown",
      "source": [
        "From the information there is no missing value. Next, it will be found out whether the customers who stop subscribing are more than those who do not or vice versa?"
      ],
      "metadata": {
        "id": "AHV2WQtAYNTe"
      }
    },
    {
      "cell_type": "code",
      "source": [
        "# Looking for label/class comparison\n",
        "df['Churn'].value_counts().plot.pie(autopct='%1.1f%%',shadow=True)\n",
        "plt.show()"
      ],
      "metadata": {
        "colab": {
          "base_uri": "https://localhost:8080/",
          "height": 406
        },
        "id": "ZY9eE_n2TdgZ",
        "outputId": "dbd29733-b3bb-4c8f-81f2-77705658354e"
      },
      "execution_count": null,
      "outputs": [
        {
          "output_type": "display_data",
          "data": {
            "text/plain": [
              "<Figure size 640x480 with 1 Axes>"
            ],
            "image/png": "[encoded data removed]"
          },
          "metadata": {}
        }
      ]
    },
    {
      "cell_type": "markdown",
      "source": [
        "From the pie-chart, it can be said that those who do not stop subscribing are more, this data is slightly unbalanced. To find out for sure you can use the proportion test (to decide whether the data is balanced or not)."
      ],
      "metadata": {
        "id": "IBUFmvIwYJAU"
      }
    },
    {
      "cell_type": "code",
      "source": [
        "# Descriptive analysis\n",
        "df.describe()"
      ],
      "metadata": {
        "colab": {
          "base_uri": "https://localhost:8080/",
          "height": 300
        },
        "id": "JGYDTRByUyq7",
        "outputId": "196f4beb-2efd-48ad-874e-d82bac954d89"
      },
      "execution_count": null,
      "outputs": [
        {
          "output_type": "execute_result",
          "data": {
            "text/plain": [
              "            tenure  MonthlyCharges\n",
              "count  7043.000000     7043.000000\n",
              "mean     32.371149       64.761692\n",
              "std      24.559481       30.090047\n",
              "min       0.000000       18.250000\n",
              "25%       9.000000       35.500000\n",
              "50%      29.000000       70.350000\n",
              "75%      55.000000       89.850000\n",
              "max      72.000000      118.750000"
            ],
            "text/html": [
              "\n",
              "  <div id=\"df-012fb47e-7595-47c2-a2e5-8ad3ec1fa2aa\" class=\"colab-df-container\">\n",
              "    <div>\n",
              "<style scoped>\n",
              "    .dataframe tbody tr th:only-of-type {\n",
              "        vertical-align: middle;\n",
              "    }\n",
              "\n",
              "    .dataframe tbody tr th {\n",
              "        vertical-align: top;\n",
              "    }\n",
              "\n",
              "    .dataframe thead th {\n",
              "        text-align: right;\n",
              "    }\n",
              "</style>\n",
              "<table border=\"1\" class=\"dataframe\">\n",
              "  <thead>\n",
              "    <tr style=\"text-align: right;\">\n",
              "      <th></th>\n",
              "      <th>tenure</th>\n",
              "      <th>MonthlyCharges</th>\n",
              "    </tr>\n",
              "  </thead>\n",
              "  <tbody>\n",
              "    <tr>\n",
              "      <th>count</th>\n",
              "      <td>7043.000000</td>\n",
              "      <td>7043.000000</td>\n",
              "    </tr>\n",
              "    <tr>\n",
              "      <th>mean</th>\n",
              "      <td>32.371149</td>\n",
              "      <td>64.761692</td>\n",
              "    </tr>\n",
              "    <tr>\n",
              "      <th>std</th>\n",
              "      <td>24.559481</td>\n",
              "      <td>30.090047</td>\n",
              "    </tr>\n",
              "    <tr>\n",
              "      <th>min</th>\n",
              "      <td>0.000000</td>\n",
              "      <td>18.250000</td>\n",
              "    </tr>\n",
              "    <tr>\n",
              "      <th>25%</th>\n",
              "      <td>9.000000</td>\n",
              "      <td>35.500000</td>\n",
              "    </tr>\n",
              "    <tr>\n",
              "      <th>50%</th>\n",
              "      <td>29.000000</td>\n",
              "      <td>70.350000</td>\n",
              "    </tr>\n",
              "    <tr>\n",
              "      <th>75%</th>\n",
              "      <td>55.000000</td>\n",
              "      <td>89.850000</td>\n",
              "    </tr>\n",
              "    <tr>\n",
              "      <th>max</th>\n",
              "      <td>72.000000</td>\n",
              "      <td>118.750000</td>\n",
              "    </tr>\n",
              "  </tbody>\n",
              "</table>\n",
              "</div>\n",
              "    <div class=\"colab-df-buttons\">\n",
              "\n",
              "  <div class=\"colab-df-container\">\n",
              "    <button class=\"colab-df-convert\" onclick=\"convertToInteractive('df-012fb47e-7595-47c2-a2e5-8ad3ec1fa2aa')\"\n",
              "            title=\"Convert this dataframe to an interactive table.\"\n",
              "            style=\"display:none;\">\n",
              "\n",
              "  <svg xmlns=\"http://www.w3.org/2000/svg\" height=\"24px\" viewBox=\"0 -960 960 960\">\n",
              "    <path d=\"M120-120v-720h720v720H120Zm60-500h600v-160H180v160Zm220 220h160v-160H400v160Zm0 220h160v-160H400v160ZM180-400h160v-160H180v160Zm440 0h160v-160H620v160ZM180-180h160v-160H180v160Zm440 0h160v-160H620v160Z\"/>\n",
              "  </svg>\n",
              "    </button>\n",
              "\n",
              "  <style>\n",
              "    .colab-df-container {\n",
              "      display:flex;\n",
              "      gap: 12px;\n",
              "    }\n",
              "\n",
              "    .colab-df-convert {\n",
              "      background-color: #E8F0FE;\n",
              "      border: none;\n",
              "      border-radius: 50%;\n",
              "      cursor: pointer;\n",
              "      display: none;\n",
              "      fill: #1967D2;\n",
              "      height: 32px;\n",
              "      padding: 0 0 0 0;\n",
              "      width: 32px;\n",
              "    }\n",
              "\n",
              "    .colab-df-convert:hover {\n",
              "      background-color: #E2EBFA;\n",
              "      box-shadow: 0px 1px 2px rgba(60, 64, 67, 0.3), 0px 1px 3px 1px rgba(60, 64, 67, 0.15);\n",
              "      fill: #174EA6;\n",
              "    }\n",
              "\n",
              "    .colab-df-buttons div {\n",
              "      margin-bottom: 4px;\n",
              "    }\n",
              "\n",
              "    [theme=dark] .colab-df-convert {\n",
              "      background-color: #3B4455;\n",
              "      fill: #D2E3FC;\n",
              "    }\n",
              "\n",
              "    [theme=dark] .colab-df-convert:hover {\n",
              "      background-color: #434B5C;\n",
              "      box-shadow: 0px 1px 3px 1px rgba(0, 0, 0, 0.15);\n",
              "      filter: drop-shadow(0px 1px 2px rgba(0, 0, 0, 0.3));\n",
              "      fill: #FFFFFF;\n",
              "    }\n",
              "  </style>\n",
              "\n",
              "    <script>\n",
              "      const buttonEl =\n",
              "        document.querySelector('#df-012fb47e-7595-47c2-a2e5-8ad3ec1fa2aa button.colab-df-convert');\n",
              "      buttonEl.style.display =\n",
              "        google.colab.kernel.accessAllowed ? 'block' : 'none';\n",
              "\n",
              "      async function convertToInteractive(key) {\n",
              "        const element = document.querySelector('#df-012fb47e-7595-47c2-a2e5-8ad3ec1fa2aa');\n",
              "        const dataTable =\n",
              "          await google.colab.kernel.invokeFunction('convertToInteractive',\n",
              "                                                    [key], {});\n",
              "        if (!dataTable) return;\n",
              "\n",
              "        const docLinkHtml = 'Like what you see? Visit the ' +\n",
              "          '<a target=\"_blank\" href=https://colab.research.google.com/notebooks/data_table.ipynb>data table notebook</a>'\n",
              "          + ' to learn more about interactive tables.';\n",
              "        element.innerHTML = '';\n",
              "        dataTable['output_type'] = 'display_data';\n",
              "        await google.colab.output.renderOutput(dataTable, element);\n",
              "        const docLink = document.createElement('div');\n",
              "        docLink.innerHTML = docLinkHtml;\n",
              "        element.appendChild(docLink);\n",
              "      }\n",
              "    </script>\n",
              "  </div>\n",
              "\n",
              "\n",
              "<div id=\"df-75d7627a-aab8-4563-bb5b-6bbc7ed44598\">\n",
              "  <button class=\"colab-df-quickchart\" onclick=\"quickchart('df-75d7627a-aab8-4563-bb5b-6bbc7ed44598')\"\n",
              "            title=\"Suggest charts\"\n",
              "            style=\"display:none;\">\n",
              "\n",
              "<svg xmlns=\"http://www.w3.org/2000/svg\" height=\"24px\"viewBox=\"0 0 24 24\"\n",
              "     width=\"24px\">\n",
              "    <g>\n",
              "        <path d=\"M19 3H5c-1.1 0-2 .9-2 2v14c0 1.1.9 2 2 2h14c1.1 0 2-.9 2-2V5c0-1.1-.9-2-2-2zM9 17H7v-7h2v7zm4 0h-2V7h2v10zm4 0h-2v-4h2v4z\"/>\n",
              "    </g>\n",
              "</svg>\n",
              "  </button>\n",
              "\n",
              "<style>\n",
              "  .colab-df-quickchart {\n",
              "      --bg-color: #E8F0FE;\n",
              "      --fill-color: #1967D2;\n",
              "      --hover-bg-color: #E2EBFA;\n",
              "      --hover-fill-color: #174EA6;\n",
              "      --disabled-fill-color: #AAA;\n",
              "      --disabled-bg-color: #DDD;\n",
              "  }\n",
              "\n",
              "  [theme=dark] .colab-df-quickchart {\n",
              "      --bg-color: #3B4455;\n",
              "      --fill-color: #D2E3FC;\n",
              "      --hover-bg-color: #434B5C;\n",
              "      --hover-fill-color: #FFFFFF;\n",
              "      --disabled-bg-color: #3B4455;\n",
              "      --disabled-fill-color: #666;\n",
              "  }\n",
              "\n",
              "  .colab-df-quickchart {\n",
              "    background-color: var(--bg-color);\n",
              "    border: none;\n",
              "    border-radius: 50%;\n",
              "    cursor: pointer;\n",
              "    display: none;\n",
              "    fill: var(--fill-color);\n",
              "    height: 32px;\n",
              "    padding: 0;\n",
              "    width: 32px;\n",
              "  }\n",
              "\n",
              "  .colab-df-quickchart:hover {\n",
              "    background-color: var(--hover-bg-color);\n",
              "    box-shadow: 0 1px 2px rgba(60, 64, 67, 0.3), 0 1px 3px 1px rgba(60, 64, 67, 0.15);\n",
              "    fill: var(--button-hover-fill-color);\n",
              "  }\n",
              "\n",
              "  .colab-df-quickchart-complete:disabled,\n",
              "  .colab-df-quickchart-complete:disabled:hover {\n",
              "    background-color: var(--disabled-bg-color);\n",
              "    fill: var(--disabled-fill-color);\n",
              "    box-shadow: none;\n",
              "  }\n",
              "\n",
              "  .colab-df-spinner {\n",
              "    border: 2px solid var(--fill-color);\n",
              "    border-color: transparent;\n",
              "    border-bottom-color: var(--fill-color);\n",
              "    animation:\n",
              "      spin 1s steps(1) infinite;\n",
              "  }\n",
              "\n",
              "  @keyframes spin {\n",
              "    0% {\n",
              "      border-color: transparent;\n",
              "      border-bottom-color: var(--fill-color);\n",
              "      border-left-color: var(--fill-color);\n",
              "    }\n",
              "    20% {\n",
              "      border-color: transparent;\n",
              "      border-left-color: var(--fill-color);\n",
              "      border-top-color: var(--fill-color);\n",
              "    }\n",
              "    30% {\n",
              "      border-color: transparent;\n",
              "      border-left-color: var(--fill-color);\n",
              "      border-top-color: var(--fill-color);\n",
              "      border-right-color: var(--fill-color);\n",
              "    }\n",
              "    40% {\n",
              "      border-color: transparent;\n",
              "      border-right-color: var(--fill-color);\n",
              "      border-top-color: var(--fill-color);\n",
              "    }\n",
              "    60% {\n",
              "      border-color: transparent;\n",
              "      border-right-color: var(--fill-color);\n",
              "    }\n",
              "    80% {\n",
              "      border-color: transparent;\n",
              "      border-right-color: var(--fill-color);\n",
              "      border-bottom-color: var(--fill-color);\n",
              "    }\n",
              "    90% {\n",
              "      border-color: transparent;\n",
              "      border-bottom-color: var(--fill-color);\n",
              "    }\n",
              "  }\n",
              "</style>\n",
              "\n",
              "  <script>\n",
              "    async function quickchart(key) {\n",
              "      const quickchartButtonEl =\n",
              "        document.querySelector('#' + key + ' button');\n",
              "      quickchartButtonEl.disabled = true;  // To prevent multiple clicks.\n",
              "      quickchartButtonEl.classList.add('colab-df-spinner');\n",
              "      try {\n",
              "        const charts = await google.colab.kernel.invokeFunction(\n",
              "            'suggestCharts', [key], {});\n",
              "      } catch (error) {\n",
              "        console.error('Error during call to suggestCharts:', error);\n",
              "      }\n",
              "      quickchartButtonEl.classList.remove('colab-df-spinner');\n",
              "      quickchartButtonEl.classList.add('colab-df-quickchart-complete');\n",
              "    }\n",
              "    (() => {\n",
              "      let quickchartButtonEl =\n",
              "        document.querySelector('#df-75d7627a-aab8-4563-bb5b-6bbc7ed44598 button');\n",
              "      quickchartButtonEl.style.display =\n",
              "        google.colab.kernel.accessAllowed ? 'block' : 'none';\n",
              "    })();\n",
              "  </script>\n",
              "</div>\n",
              "    </div>\n",
              "  </div>\n"
            ],
            "application/vnd.google.colaboratory.intrinsic+json": {
              "type": "dataframe",
              "summary": "{\n  \"name\": \"df\",\n  \"rows\": 8,\n  \"fields\": [\n    {\n      \"column\": \"tenure\",\n      \"properties\": {\n        \"dtype\": \"number\",\n        \"std\": 2478.9752758409018,\n        \"min\": 0.0,\n        \"max\": 7043.0,\n        \"num_unique_values\": 8,\n        \"samples\": [\n          32.37114865824223,\n          29.0,\n          7043.0\n        ],\n        \"semantic_type\": \"\",\n        \"description\": \"\"\n      }\n    },\n    {\n      \"column\": \"MonthlyCharges\",\n      \"properties\": {\n        \"dtype\": \"number\",\n        \"std\": 2468.7047672837775,\n        \"min\": 18.25,\n        \"max\": 7043.0,\n        \"num_unique_values\": 8,\n        \"samples\": [\n          64.76169246059918,\n          70.35,\n          7043.0\n        ],\n        \"semantic_type\": \"\",\n        \"description\": \"\"\n      }\n    }\n  ]\n}"
            }
          },
          "metadata": {},
          "execution_count": 8
        }
      ]
    },
    {
      "cell_type": "markdown",
      "source": [
        "From the tenure variable, the most loyal customer is 72 months, and the average subscriber is 32 months. While in the monthly charge variable, the highest bill is 118 USD, and the average bill is 64 USD."
      ],
      "metadata": {
        "id": "asu_kiW8YBPC"
      }
    },
    {
      "cell_type": "code",
      "source": [
        "# Create a Crosstab between Churn and Gender\n",
        "gender_churn = pd.crosstab(df['Churn'], (df['gender']))\n",
        "\n",
        "# Make crosstab results into a dataframe\n",
        "stacked = gender_churn.stack().reset_index().rename(columns={0:'Count'})\n",
        "sns.barplot(x=stacked.Churn, y=stacked.Count, hue=stacked.gender)\n",
        "plt.show()"
      ],
      "metadata": {
        "colab": {
          "base_uri": "https://localhost:8080/",
          "height": 449
        },
        "id": "bLy7XoJeUylg",
        "outputId": "44d18d8d-1120-4065-e489-b8a934a5bba5"
      },
      "execution_count": null,
      "outputs": [
        {
          "output_type": "display_data",
          "data": {
            "text/plain": [
              "<Figure size 640x480 with 1 Axes>"
            ],
            "image/png": "[encoded data removed]"
          },
          "metadata": {}
        }
      ]
    },
    {
      "cell_type": "markdown",
      "source": [
        "There can be no significant difference in this regard."
      ],
      "metadata": {
        "id": "y20-vx2CX6Fv"
      }
    },
    {
      "cell_type": "code",
      "source": [
        "# Create a Crosstab between Churn and Partners\n",
        "married_churn = pd.crosstab(df['Churn'], (df['Partner']))\n",
        "\n",
        "# Make crosstab results into a dataframe\n",
        "stacked = married_churn.stack().reset_index().rename(columns={0:'Count'})\n",
        "sns.barplot(x=stacked.Churn, y=stacked.Count, hue=stacked.Partner)\n",
        "plt.show()"
      ],
      "metadata": {
        "colab": {
          "base_uri": "https://localhost:8080/",
          "height": 449
        },
        "id": "MxpaJlDmUyfL",
        "outputId": "fc31ad84-8523-4835-cecf-c214d99a8ba3"
      },
      "execution_count": null,
      "outputs": [
        {
          "output_type": "display_data",
          "data": {
            "text/plain": [
              "<Figure size 640x480 with 1 Axes>"
            ],
            "image/png": "[encoded data removed]"
          },
          "metadata": {}
        }
      ]
    },
    {
      "cell_type": "markdown",
      "source": [
        "Judging from the crosstab barplot, married customers are less likely to unsubscribe, while unmarried customers are more likely to unsubscribe."
      ],
      "metadata": {
        "id": "Ao2LcT1nXxiY"
      }
    },
    {
      "cell_type": "code",
      "source": [
        "# Create a Crosstab between Churn and PhoneService\n",
        "ps_churn = pd.crosstab(df['Churn'], (df['PhoneService']))\n",
        "\n",
        "# Make crosstab results into a dataframe\n",
        "stacked = ps_churn.stack().reset_index().rename(columns={0:'Count'})\n",
        "sns.barplot(x=stacked.Churn, y=stacked.Count, hue=stacked.PhoneService)\n",
        "plt.show()"
      ],
      "metadata": {
        "colab": {
          "base_uri": "https://localhost:8080/",
          "height": 449
        },
        "id": "ZmMUKB9hUyZ8",
        "outputId": "fee81ca7-a9c3-4461-eb6a-d9a401fd7e45"
      },
      "execution_count": null,
      "outputs": [
        {
          "output_type": "display_data",
          "data": {
            "text/plain": [
              "<Figure size 640x480 with 1 Axes>"
            ],
            "image/png": "[encoded data removed]"
          },
          "metadata": {}
        }
      ]
    },
    {
      "cell_type": "markdown",
      "source": [
        "Customers whose homes have telephone services, most of them do not stop subscribing, but there are also quite a few customers who stop subscribing with the status of phone service Yes. Overall, customers with telephone services at home tend not to stop subscribing."
      ],
      "metadata": {
        "id": "NcNcRsJLXpiL"
      }
    },
    {
      "cell_type": "code",
      "source": [
        "# Create a Crosstab between Churn and Paperless Billing\n",
        "pb_churn = pd.crosstab(df['Churn'], (df['PaperlessBilling']))\n",
        "\n",
        "# Make crosstab results into a dataframe\n",
        "stacked = pb_churn.stack().reset_index().rename(columns={0:'Count'})\n",
        "sns.barplot(x=stacked.Churn, y=stacked.Count, hue=stacked.PaperlessBilling)\n",
        "plt.show()"
      ],
      "metadata": {
        "colab": {
          "base_uri": "https://localhost:8080/",
          "height": 449
        },
        "id": "gV2O0THZVCHb",
        "outputId": "73a3f83b-852b-44ee-bee6-2b6d5aac97d0"
      },
      "execution_count": null,
      "outputs": [
        {
          "output_type": "display_data",
          "data": {
            "text/plain": [
              "<Figure size 640x480 with 1 Axes>"
            ],
            "image/png": "[encoded data removed]"
          },
          "metadata": {}
        }
      ]
    },
    {
      "cell_type": "code",
      "source": [
        "# Boxplot Tenure with Churn\n",
        "sns.boxplot(x=\"Churn\", y=\"tenure\", data=df)"
      ],
      "metadata": {
        "colab": {
          "base_uri": "https://localhost:8080/",
          "height": 467
        },
        "id": "kxl96TABVBxw",
        "outputId": "974c94ee-3f6a-4909-a9c1-76a1643fc45e"
      },
      "execution_count": null,
      "outputs": [
        {
          "output_type": "execute_result",
          "data": {
            "text/plain": [
              "<Axes: xlabel='Churn', ylabel='tenure'>"
            ]
          },
          "metadata": {},
          "execution_count": 13
        },
        {
          "output_type": "display_data",
          "data": {
            "text/plain": [
              "<Figure size 640x480 with 1 Axes>"
            ],
            "image/png": "[encoded data removed]"
          },
          "metadata": {}
        }
      ]
    },
    {
      "cell_type": "markdown",
      "source": [
        "The boxplot shows that customers who stop subscribing have a smaller average tenure than those who do not subscribe. The average customer who stops subscribing is 10 months after their first use. But there is also an anomalous value, namely customers who have subscribed for 70 months, but still stop subscribing."
      ],
      "metadata": {
        "id": "jpkuEpfNXd60"
      }
    },
    {
      "cell_type": "code",
      "source": [
        "# Boxplot Tenure with Churn\n",
        "sns.boxplot(x=\"Churn\", y=\"MonthlyCharges\", data=df)"
      ],
      "metadata": {
        "colab": {
          "base_uri": "https://localhost:8080/",
          "height": 467
        },
        "id": "CRILhsiHVBqd",
        "outputId": "afcc3dcf-2392-4ac9-e500-9749851da7d7"
      },
      "execution_count": null,
      "outputs": [
        {
          "output_type": "execute_result",
          "data": {
            "text/plain": [
              "<Axes: xlabel='Churn', ylabel='MonthlyCharges'>"
            ]
          },
          "metadata": {},
          "execution_count": 14
        },
        {
          "output_type": "display_data",
          "data": {
            "text/plain": [
              "<Figure size 640x480 with 1 Axes>"
            ],
            "image/png": "[encoded data removed]"
          },
          "metadata": {}
        }
      ]
    },
    {
      "cell_type": "markdown",
      "source": [
        "The boxplot image shows that the higher the billing costs, the more likely customers are to stop subscribing."
      ],
      "metadata": {
        "id": "7qbZ9BPvXUtC"
      }
    },
    {
      "cell_type": "markdown",
      "source": [
        "## 3 Preprocessing"
      ],
      "metadata": {
        "id": "Im9QVSYGXNb5"
      }
    },
    {
      "cell_type": "markdown",
      "source": [
        "Label Encoder"
      ],
      "metadata": {
        "id": "pVb1PKq2XJyy"
      }
    },
    {
      "cell_type": "code",
      "source": [
        "kategori = ['gender','Partner','PhoneService','PaperlessBilling','Churn']\n",
        "df_cat = df[kategori]\n",
        "df_cat.head()"
      ],
      "metadata": {
        "colab": {
          "base_uri": "https://localhost:8080/",
          "height": 206
        },
        "id": "CB7lhmw-VK46",
        "outputId": "6f699d8f-2b4b-4d84-8ac9-bc25437dffb9"
      },
      "execution_count": null,
      "outputs": [
        {
          "output_type": "execute_result",
          "data": {
            "text/plain": [
              "   gender Partner PhoneService PaperlessBilling Churn\n",
              "0  Female     Yes           No              Yes    No\n",
              "1    Male      No          Yes               No    No\n",
              "2    Male      No          Yes              Yes   Yes\n",
              "3    Male      No           No               No    No\n",
              "4  Female      No          Yes              Yes   Yes"
            ],
            "text/html": [
              "\n",
              "  <div id=\"df-dc071170-114f-4fec-8e59-ec2735e56635\" class=\"colab-df-container\">\n",
              "    <div>\n",
              "<style scoped>\n",
              "    .dataframe tbody tr th:only-of-type {\n",
              "        vertical-align: middle;\n",
              "    }\n",
              "\n",
              "    .dataframe tbody tr th {\n",
              "        vertical-align: top;\n",
              "    }\n",
              "\n",
              "    .dataframe thead th {\n",
              "        text-align: right;\n",
              "    }\n",
              "</style>\n",
              "<table border=\"1\" class=\"dataframe\">\n",
              "  <thead>\n",
              "    <tr style=\"text-align: right;\">\n",
              "      <th></th>\n",
              "      <th>gender</th>\n",
              "      <th>Partner</th>\n",
              "      <th>PhoneService</th>\n",
              "      <th>PaperlessBilling</th>\n",
              "      <th>Churn</th>\n",
              "    </tr>\n",
              "  </thead>\n",
              "  <tbody>\n",
              "    <tr>\n",
              "      <th>0</th>\n",
              "      <td>Female</td>\n",
              "      <td>Yes</td>\n",
              "      <td>No</td>\n",
              "      <td>Yes</td>\n",
              "      <td>No</td>\n",
              "    </tr>\n",
              "    <tr>\n",
              "      <th>1</th>\n",
              "      <td>Male</td>\n",
              "      <td>No</td>\n",
              "      <td>Yes</td>\n",
              "      <td>No</td>\n",
              "      <td>No</td>\n",
              "    </tr>\n",
              "    <tr>\n",
              "      <th>2</th>\n",
              "      <td>Male</td>\n",
              "      <td>No</td>\n",
              "      <td>Yes</td>\n",
              "      <td>Yes</td>\n",
              "      <td>Yes</td>\n",
              "    </tr>\n",
              "    <tr>\n",
              "      <th>3</th>\n",
              "      <td>Male</td>\n",
              "      <td>No</td>\n",
              "      <td>No</td>\n",
              "      <td>No</td>\n",
              "      <td>No</td>\n",
              "    </tr>\n",
              "    <tr>\n",
              "      <th>4</th>\n",
              "      <td>Female</td>\n",
              "      <td>No</td>\n",
              "      <td>Yes</td>\n",
              "      <td>Yes</td>\n",
              "      <td>Yes</td>\n",
              "    </tr>\n",
              "  </tbody>\n",
              "</table>\n",
              "</div>\n",
              "    <div class=\"colab-df-buttons\">\n",
              "\n",
              "  <div class=\"colab-df-container\">\n",
              "    <button class=\"colab-df-convert\" onclick=\"convertToInteractive('df-dc071170-114f-4fec-8e59-ec2735e56635')\"\n",
              "            title=\"Convert this dataframe to an interactive table.\"\n",
              "            style=\"display:none;\">\n",
              "\n",
              "  <svg xmlns=\"http://www.w3.org/2000/svg\" height=\"24px\" viewBox=\"0 -960 960 960\">\n",
              "    <path d=\"M120-120v-720h720v720H120Zm60-500h600v-160H180v160Zm220 220h160v-160H400v160Zm0 220h160v-160H400v160ZM180-400h160v-160H180v160Zm440 0h160v-160H620v160ZM180-180h160v-160H180v160Zm440 0h160v-160H620v160Z\"/>\n",
              "  </svg>\n",
              "    </button>\n",
              "\n",
              "  <style>\n",
              "    .colab-df-container {\n",
              "      display:flex;\n",
              "      gap: 12px;\n",
              "    }\n",
              "\n",
              "    .colab-df-convert {\n",
              "      background-color: #E8F0FE;\n",
              "      border: none;\n",
              "      border-radius: 50%;\n",
              "      cursor: pointer;\n",
              "      display: none;\n",
              "      fill: #1967D2;\n",
              "      height: 32px;\n",
              "      padding: 0 0 0 0;\n",
              "      width: 32px;\n",
              "    }\n",
              "\n",
              "    .colab-df-convert:hover {\n",
              "      background-color: #E2EBFA;\n",
              "      box-shadow: 0px 1px 2px rgba(60, 64, 67, 0.3), 0px 1px 3px 1px rgba(60, 64, 67, 0.15);\n",
              "      fill: #174EA6;\n",
              "    }\n",
              "\n",
              "    .colab-df-buttons div {\n",
              "      margin-bottom: 4px;\n",
              "    }\n",
              "\n",
              "    [theme=dark] .colab-df-convert {\n",
              "      background-color: #3B4455;\n",
              "      fill: #D2E3FC;\n",
              "    }\n",
              "\n",
              "    [theme=dark] .colab-df-convert:hover {\n",
              "      background-color: #434B5C;\n",
              "      box-shadow: 0px 1px 3px 1px rgba(0, 0, 0, 0.15);\n",
              "      filter: drop-shadow(0px 1px 2px rgba(0, 0, 0, 0.3));\n",
              "      fill: #FFFFFF;\n",
              "    }\n",
              "  </style>\n",
              "\n",
              "    <script>\n",
              "      const buttonEl =\n",
              "        document.querySelector('#df-dc071170-114f-4fec-8e59-ec2735e56635 button.colab-df-convert');\n",
              "      buttonEl.style.display =\n",
              "        google.colab.kernel.accessAllowed ? 'block' : 'none';\n",
              "\n",
              "      async function convertToInteractive(key) {\n",
              "        const element = document.querySelector('#df-dc071170-114f-4fec-8e59-ec2735e56635');\n",
              "        const dataTable =\n",
              "          await google.colab.kernel.invokeFunction('convertToInteractive',\n",
              "                                                    [key], {});\n",
              "        if (!dataTable) return;\n",
              "\n",
              "        const docLinkHtml = 'Like what you see? Visit the ' +\n",
              "          '<a target=\"_blank\" href=https://colab.research.google.com/notebooks/data_table.ipynb>data table notebook</a>'\n",
              "          + ' to learn more about interactive tables.';\n",
              "        element.innerHTML = '';\n",
              "        dataTable['output_type'] = 'display_data';\n",
              "        await google.colab.output.renderOutput(dataTable, element);\n",
              "        const docLink = document.createElement('div');\n",
              "        docLink.innerHTML = docLinkHtml;\n",
              "        element.appendChild(docLink);\n",
              "      }\n",
              "    </script>\n",
              "  </div>\n",
              "\n",
              "\n",
              "<div id=\"df-862b33e1-8987-414b-bd9b-9738531235d5\">\n",
              "  <button class=\"colab-df-quickchart\" onclick=\"quickchart('df-862b33e1-8987-414b-bd9b-9738531235d5')\"\n",
              "            title=\"Suggest charts\"\n",
              "            style=\"display:none;\">\n",
              "\n",
              "<svg xmlns=\"http://www.w3.org/2000/svg\" height=\"24px\"viewBox=\"0 0 24 24\"\n",
              "     width=\"24px\">\n",
              "    <g>\n",
              "        <path d=\"M19 3H5c-1.1 0-2 .9-2 2v14c0 1.1.9 2 2 2h14c1.1 0 2-.9 2-2V5c0-1.1-.9-2-2-2zM9 17H7v-7h2v7zm4 0h-2V7h2v10zm4 0h-2v-4h2v4z\"/>\n",
              "    </g>\n",
              "</svg>\n",
              "  </button>\n",
              "\n",
              "<style>\n",
              "  .colab-df-quickchart {\n",
              "      --bg-color: #E8F0FE;\n",
              "      --fill-color: #1967D2;\n",
              "      --hover-bg-color: #E2EBFA;\n",
              "      --hover-fill-color: #174EA6;\n",
              "      --disabled-fill-color: #AAA;\n",
              "      --disabled-bg-color: #DDD;\n",
              "  }\n",
              "\n",
              "  [theme=dark] .colab-df-quickchart {\n",
              "      --bg-color: #3B4455;\n",
              "      --fill-color: #D2E3FC;\n",
              "      --hover-bg-color: #434B5C;\n",
              "      --hover-fill-color: #FFFFFF;\n",
              "      --disabled-bg-color: #3B4455;\n",
              "      --disabled-fill-color: #666;\n",
              "  }\n",
              "\n",
              "  .colab-df-quickchart {\n",
              "    background-color: var(--bg-color);\n",
              "    border: none;\n",
              "    border-radius: 50%;\n",
              "    cursor: pointer;\n",
              "    display: none;\n",
              "    fill: var(--fill-color);\n",
              "    height: 32px;\n",
              "    padding: 0;\n",
              "    width: 32px;\n",
              "  }\n",
              "\n",
              "  .colab-df-quickchart:hover {\n",
              "    background-color: var(--hover-bg-color);\n",
              "    box-shadow: 0 1px 2px rgba(60, 64, 67, 0.3), 0 1px 3px 1px rgba(60, 64, 67, 0.15);\n",
              "    fill: var(--button-hover-fill-color);\n",
              "  }\n",
              "\n",
              "  .colab-df-quickchart-complete:disabled,\n",
              "  .colab-df-quickchart-complete:disabled:hover {\n",
              "    background-color: var(--disabled-bg-color);\n",
              "    fill: var(--disabled-fill-color);\n",
              "    box-shadow: none;\n",
              "  }\n",
              "\n",
              "  .colab-df-spinner {\n",
              "    border: 2px solid var(--fill-color);\n",
              "    border-color: transparent;\n",
              "    border-bottom-color: var(--fill-color);\n",
              "    animation:\n",
              "      spin 1s steps(1) infinite;\n",
              "  }\n",
              "\n",
              "  @keyframes spin {\n",
              "    0% {\n",
              "      border-color: transparent;\n",
              "      border-bottom-color: var(--fill-color);\n",
              "      border-left-color: var(--fill-color);\n",
              "    }\n",
              "    20% {\n",
              "      border-color: transparent;\n",
              "      border-left-color: var(--fill-color);\n",
              "      border-top-color: var(--fill-color);\n",
              "    }\n",
              "    30% {\n",
              "      border-color: transparent;\n",
              "      border-left-color: var(--fill-color);\n",
              "      border-top-color: var(--fill-color);\n",
              "      border-right-color: var(--fill-color);\n",
              "    }\n",
              "    40% {\n",
              "      border-color: transparent;\n",
              "      border-right-color: var(--fill-color);\n",
              "      border-top-color: var(--fill-color);\n",
              "    }\n",
              "    60% {\n",
              "      border-color: transparent;\n",
              "      border-right-color: var(--fill-color);\n",
              "    }\n",
              "    80% {\n",
              "      border-color: transparent;\n",
              "      border-right-color: var(--fill-color);\n",
              "      border-bottom-color: var(--fill-color);\n",
              "    }\n",
              "    90% {\n",
              "      border-color: transparent;\n",
              "      border-bottom-color: var(--fill-color);\n",
              "    }\n",
              "  }\n",
              "</style>\n",
              "\n",
              "  <script>\n",
              "    async function quickchart(key) {\n",
              "      const quickchartButtonEl =\n",
              "        document.querySelector('#' + key + ' button');\n",
              "      quickchartButtonEl.disabled = true;  // To prevent multiple clicks.\n",
              "      quickchartButtonEl.classList.add('colab-df-spinner');\n",
              "      try {\n",
              "        const charts = await google.colab.kernel.invokeFunction(\n",
              "            'suggestCharts', [key], {});\n",
              "      } catch (error) {\n",
              "        console.error('Error during call to suggestCharts:', error);\n",
              "      }\n",
              "      quickchartButtonEl.classList.remove('colab-df-spinner');\n",
              "      quickchartButtonEl.classList.add('colab-df-quickchart-complete');\n",
              "    }\n",
              "    (() => {\n",
              "      let quickchartButtonEl =\n",
              "        document.querySelector('#df-862b33e1-8987-414b-bd9b-9738531235d5 button');\n",
              "      quickchartButtonEl.style.display =\n",
              "        google.colab.kernel.accessAllowed ? 'block' : 'none';\n",
              "    })();\n",
              "  </script>\n",
              "</div>\n",
              "    </div>\n",
              "  </div>\n"
            ],
            "application/vnd.google.colaboratory.intrinsic+json": {
              "type": "dataframe",
              "variable_name": "df_cat",
              "summary": "{\n  \"name\": \"df_cat\",\n  \"rows\": 7043,\n  \"fields\": [\n    {\n      \"column\": \"gender\",\n      \"properties\": {\n        \"dtype\": \"category\",\n        \"num_unique_values\": 2,\n        \"samples\": [\n          \"Male\",\n          \"Female\"\n        ],\n        \"semantic_type\": \"\",\n        \"description\": \"\"\n      }\n    },\n    {\n      \"column\": \"Partner\",\n      \"properties\": {\n        \"dtype\": \"category\",\n        \"num_unique_values\": 2,\n        \"samples\": [\n          \"No\",\n          \"Yes\"\n        ],\n        \"semantic_type\": \"\",\n        \"description\": \"\"\n      }\n    },\n    {\n      \"column\": \"PhoneService\",\n      \"properties\": {\n        \"dtype\": \"category\",\n        \"num_unique_values\": 2,\n        \"samples\": [\n          \"Yes\",\n          \"No\"\n        ],\n        \"semantic_type\": \"\",\n        \"description\": \"\"\n      }\n    },\n    {\n      \"column\": \"PaperlessBilling\",\n      \"properties\": {\n        \"dtype\": \"category\",\n        \"num_unique_values\": 2,\n        \"samples\": [\n          \"No\",\n          \"Yes\"\n        ],\n        \"semantic_type\": \"\",\n        \"description\": \"\"\n      }\n    },\n    {\n      \"column\": \"Churn\",\n      \"properties\": {\n        \"dtype\": \"category\",\n        \"num_unique_values\": 2,\n        \"samples\": [\n          \"Yes\",\n          \"No\"\n        ],\n        \"semantic_type\": \"\",\n        \"description\": \"\"\n      }\n    }\n  ]\n}"
            }
          },
          "metadata": {},
          "execution_count": 15
        }
      ]
    },
    {
      "cell_type": "code",
      "source": [
        "# Convert to numeric form\n",
        "encoded_data = LabelEncoder()\n",
        "\n",
        "for feature in kategori:\n",
        "        if feature in df.columns.values:\n",
        "            df[feature] = encoded_data.fit_transform(df[feature])\n",
        "\n",
        "df.head()"
      ],
      "metadata": {
        "colab": {
          "base_uri": "https://localhost:8080/",
          "height": 206
        },
        "id": "nvI_EBv8VKzr",
        "outputId": "35686f4a-c78a-4c37-852c-f4a7af2b12fa"
      },
      "execution_count": null,
      "outputs": [
        {
          "output_type": "execute_result",
          "data": {
            "text/plain": [
              "   gender  Partner  tenure  PhoneService  PaperlessBilling  MonthlyCharges  \\\n",
              "0       0        1       1             0                 1           29.85   \n",
              "1       1        0      34             1                 0           56.95   \n",
              "2       1        0       2             1                 1           53.85   \n",
              "3       1        0      45             0                 0           42.30   \n",
              "4       0        0       2             1                 1           70.70   \n",
              "\n",
              "   Churn  \n",
              "0      0  \n",
              "1      0  \n",
              "2      1  \n",
              "3      0  \n",
              "4      1  "
            ],
            "text/html": [
              "\n",
              "  <div id=\"df-c26a35c3-9efc-4778-a930-5f2b548dd8bd\" class=\"colab-df-container\">\n",
              "    <div>\n",
              "<style scoped>\n",
              "    .dataframe tbody tr th:only-of-type {\n",
              "        vertical-align: middle;\n",
              "    }\n",
              "\n",
              "    .dataframe tbody tr th {\n",
              "        vertical-align: top;\n",
              "    }\n",
              "\n",
              "    .dataframe thead th {\n",
              "        text-align: right;\n",
              "    }\n",
              "</style>\n",
              "<table border=\"1\" class=\"dataframe\">\n",
              "  <thead>\n",
              "    <tr style=\"text-align: right;\">\n",
              "      <th></th>\n",
              "      <th>gender</th>\n",
              "      <th>Partner</th>\n",
              "      <th>tenure</th>\n",
              "      <th>PhoneService</th>\n",
              "      <th>PaperlessBilling</th>\n",
              "      <th>MonthlyCharges</th>\n",
              "      <th>Churn</th>\n",
              "    </tr>\n",
              "  </thead>\n",
              "  <tbody>\n",
              "    <tr>\n",
              "      <th>0</th>\n",
              "      <td>0</td>\n",
              "      <td>1</td>\n",
              "      <td>1</td>\n",
              "      <td>0</td>\n",
              "      <td>1</td>\n",
              "      <td>29.85</td>\n",
              "      <td>0</td>\n",
              "    </tr>\n",
              "    <tr>\n",
              "      <th>1</th>\n",
              "      <td>1</td>\n",
              "      <td>0</td>\n",
              "      <td>34</td>\n",
              "      <td>1</td>\n",
              "      <td>0</td>\n",
              "      <td>56.95</td>\n",
              "      <td>0</td>\n",
              "    </tr>\n",
              "    <tr>\n",
              "      <th>2</th>\n",
              "      <td>1</td>\n",
              "      <td>0</td>\n",
              "      <td>2</td>\n",
              "      <td>1</td>\n",
              "      <td>1</td>\n",
              "      <td>53.85</td>\n",
              "      <td>1</td>\n",
              "    </tr>\n",
              "    <tr>\n",
              "      <th>3</th>\n",
              "      <td>1</td>\n",
              "      <td>0</td>\n",
              "      <td>45</td>\n",
              "      <td>0</td>\n",
              "      <td>0</td>\n",
              "      <td>42.30</td>\n",
              "      <td>0</td>\n",
              "    </tr>\n",
              "    <tr>\n",
              "      <th>4</th>\n",
              "      <td>0</td>\n",
              "      <td>0</td>\n",
              "      <td>2</td>\n",
              "      <td>1</td>\n",
              "      <td>1</td>\n",
              "      <td>70.70</td>\n",
              "      <td>1</td>\n",
              "    </tr>\n",
              "  </tbody>\n",
              "</table>\n",
              "</div>\n",
              "    <div class=\"colab-df-buttons\">\n",
              "\n",
              "  <div class=\"colab-df-container\">\n",
              "    <button class=\"colab-df-convert\" onclick=\"convertToInteractive('df-c26a35c3-9efc-4778-a930-5f2b548dd8bd')\"\n",
              "            title=\"Convert this dataframe to an interactive table.\"\n",
              "            style=\"display:none;\">\n",
              "\n",
              "  <svg xmlns=\"http://www.w3.org/2000/svg\" height=\"24px\" viewBox=\"0 -960 960 960\">\n",
              "    <path d=\"M120-120v-720h720v720H120Zm60-500h600v-160H180v160Zm220 220h160v-160H400v160Zm0 220h160v-160H400v160ZM180-400h160v-160H180v160Zm440 0h160v-160H620v160ZM180-180h160v-160H180v160Zm440 0h160v-160H620v160Z\"/>\n",
              "  </svg>\n",
              "    </button>\n",
              "\n",
              "  <style>\n",
              "    .colab-df-container {\n",
              "      display:flex;\n",
              "      gap: 12px;\n",
              "    }\n",
              "\n",
              "    .colab-df-convert {\n",
              "      background-color: #E8F0FE;\n",
              "      border: none;\n",
              "      border-radius: 50%;\n",
              "      cursor: pointer;\n",
              "      display: none;\n",
              "      fill: #1967D2;\n",
              "      height: 32px;\n",
              "      padding: 0 0 0 0;\n",
              "      width: 32px;\n",
              "    }\n",
              "\n",
              "    .colab-df-convert:hover {\n",
              "      background-color: #E2EBFA;\n",
              "      box-shadow: 0px 1px 2px rgba(60, 64, 67, 0.3), 0px 1px 3px 1px rgba(60, 64, 67, 0.15);\n",
              "      fill: #174EA6;\n",
              "    }\n",
              "\n",
              "    .colab-df-buttons div {\n",
              "      margin-bottom: 4px;\n",
              "    }\n",
              "\n",
              "    [theme=dark] .colab-df-convert {\n",
              "      background-color: #3B4455;\n",
              "      fill: #D2E3FC;\n",
              "    }\n",
              "\n",
              "    [theme=dark] .colab-df-convert:hover {\n",
              "      background-color: #434B5C;\n",
              "      box-shadow: 0px 1px 3px 1px rgba(0, 0, 0, 0.15);\n",
              "      filter: drop-shadow(0px 1px 2px rgba(0, 0, 0, 0.3));\n",
              "      fill: #FFFFFF;\n",
              "    }\n",
              "  </style>\n",
              "\n",
              "    <script>\n",
              "      const buttonEl =\n",
              "        document.querySelector('#df-c26a35c3-9efc-4778-a930-5f2b548dd8bd button.colab-df-convert');\n",
              "      buttonEl.style.display =\n",
              "        google.colab.kernel.accessAllowed ? 'block' : 'none';\n",
              "\n",
              "      async function convertToInteractive(key) {\n",
              "        const element = document.querySelector('#df-c26a35c3-9efc-4778-a930-5f2b548dd8bd');\n",
              "        const dataTable =\n",
              "          await google.colab.kernel.invokeFunction('convertToInteractive',\n",
              "                                                    [key], {});\n",
              "        if (!dataTable) return;\n",
              "\n",
              "        const docLinkHtml = 'Like what you see? Visit the ' +\n",
              "          '<a target=\"_blank\" href=https://colab.research.google.com/notebooks/data_table.ipynb>data table notebook</a>'\n",
              "          + ' to learn more about interactive tables.';\n",
              "        element.innerHTML = '';\n",
              "        dataTable['output_type'] = 'display_data';\n",
              "        await google.colab.output.renderOutput(dataTable, element);\n",
              "        const docLink = document.createElement('div');\n",
              "        docLink.innerHTML = docLinkHtml;\n",
              "        element.appendChild(docLink);\n",
              "      }\n",
              "    </script>\n",
              "  </div>\n",
              "\n",
              "\n",
              "<div id=\"df-b047e77f-45fb-4220-81a4-6a05c690c137\">\n",
              "  <button class=\"colab-df-quickchart\" onclick=\"quickchart('df-b047e77f-45fb-4220-81a4-6a05c690c137')\"\n",
              "            title=\"Suggest charts\"\n",
              "            style=\"display:none;\">\n",
              "\n",
              "<svg xmlns=\"http://www.w3.org/2000/svg\" height=\"24px\"viewBox=\"0 0 24 24\"\n",
              "     width=\"24px\">\n",
              "    <g>\n",
              "        <path d=\"M19 3H5c-1.1 0-2 .9-2 2v14c0 1.1.9 2 2 2h14c1.1 0 2-.9 2-2V5c0-1.1-.9-2-2-2zM9 17H7v-7h2v7zm4 0h-2V7h2v10zm4 0h-2v-4h2v4z\"/>\n",
              "    </g>\n",
              "</svg>\n",
              "  </button>\n",
              "\n",
              "<style>\n",
              "  .colab-df-quickchart {\n",
              "      --bg-color: #E8F0FE;\n",
              "      --fill-color: #1967D2;\n",
              "      --hover-bg-color: #E2EBFA;\n",
              "      --hover-fill-color: #174EA6;\n",
              "      --disabled-fill-color: #AAA;\n",
              "      --disabled-bg-color: #DDD;\n",
              "  }\n",
              "\n",
              "  [theme=dark] .colab-df-quickchart {\n",
              "      --bg-color: #3B4455;\n",
              "      --fill-color: #D2E3FC;\n",
              "      --hover-bg-color: #434B5C;\n",
              "      --hover-fill-color: #FFFFFF;\n",
              "      --disabled-bg-color: #3B4455;\n",
              "      --disabled-fill-color: #666;\n",
              "  }\n",
              "\n",
              "  .colab-df-quickchart {\n",
              "    background-color: var(--bg-color);\n",
              "    border: none;\n",
              "    border-radius: 50%;\n",
              "    cursor: pointer;\n",
              "    display: none;\n",
              "    fill: var(--fill-color);\n",
              "    height: 32px;\n",
              "    padding: 0;\n",
              "    width: 32px;\n",
              "  }\n",
              "\n",
              "  .colab-df-quickchart:hover {\n",
              "    background-color: var(--hover-bg-color);\n",
              "    box-shadow: 0 1px 2px rgba(60, 64, 67, 0.3), 0 1px 3px 1px rgba(60, 64, 67, 0.15);\n",
              "    fill: var(--button-hover-fill-color);\n",
              "  }\n",
              "\n",
              "  .colab-df-quickchart-complete:disabled,\n",
              "  .colab-df-quickchart-complete:disabled:hover {\n",
              "    background-color: var(--disabled-bg-color);\n",
              "    fill: var(--disabled-fill-color);\n",
              "    box-shadow: none;\n",
              "  }\n",
              "\n",
              "  .colab-df-spinner {\n",
              "    border: 2px solid var(--fill-color);\n",
              "    border-color: transparent;\n",
              "    border-bottom-color: var(--fill-color);\n",
              "    animation:\n",
              "      spin 1s steps(1) infinite;\n",
              "  }\n",
              "\n",
              "  @keyframes spin {\n",
              "    0% {\n",
              "      border-color: transparent;\n",
              "      border-bottom-color: var(--fill-color);\n",
              "      border-left-color: var(--fill-color);\n",
              "    }\n",
              "    20% {\n",
              "      border-color: transparent;\n",
              "      border-left-color: var(--fill-color);\n",
              "      border-top-color: var(--fill-color);\n",
              "    }\n",
              "    30% {\n",
              "      border-color: transparent;\n",
              "      border-left-color: var(--fill-color);\n",
              "      border-top-color: var(--fill-color);\n",
              "      border-right-color: var(--fill-color);\n",
              "    }\n",
              "    40% {\n",
              "      border-color: transparent;\n",
              "      border-right-color: var(--fill-color);\n",
              "      border-top-color: var(--fill-color);\n",
              "    }\n",
              "    60% {\n",
              "      border-color: transparent;\n",
              "      border-right-color: var(--fill-color);\n",
              "    }\n",
              "    80% {\n",
              "      border-color: transparent;\n",
              "      border-right-color: var(--fill-color);\n",
              "      border-bottom-color: var(--fill-color);\n",
              "    }\n",
              "    90% {\n",
              "      border-color: transparent;\n",
              "      border-bottom-color: var(--fill-color);\n",
              "    }\n",
              "  }\n",
              "</style>\n",
              "\n",
              "  <script>\n",
              "    async function quickchart(key) {\n",
              "      const quickchartButtonEl =\n",
              "        document.querySelector('#' + key + ' button');\n",
              "      quickchartButtonEl.disabled = true;  // To prevent multiple clicks.\n",
              "      quickchartButtonEl.classList.add('colab-df-spinner');\n",
              "      try {\n",
              "        const charts = await google.colab.kernel.invokeFunction(\n",
              "            'suggestCharts', [key], {});\n",
              "      } catch (error) {\n",
              "        console.error('Error during call to suggestCharts:', error);\n",
              "      }\n",
              "      quickchartButtonEl.classList.remove('colab-df-spinner');\n",
              "      quickchartButtonEl.classList.add('colab-df-quickchart-complete');\n",
              "    }\n",
              "    (() => {\n",
              "      let quickchartButtonEl =\n",
              "        document.querySelector('#df-b047e77f-45fb-4220-81a4-6a05c690c137 button');\n",
              "      quickchartButtonEl.style.display =\n",
              "        google.colab.kernel.accessAllowed ? 'block' : 'none';\n",
              "    })();\n",
              "  </script>\n",
              "</div>\n",
              "    </div>\n",
              "  </div>\n"
            ],
            "application/vnd.google.colaboratory.intrinsic+json": {
              "type": "dataframe",
              "variable_name": "df",
              "summary": "{\n  \"name\": \"df\",\n  \"rows\": 7043,\n  \"fields\": [\n    {\n      \"column\": \"gender\",\n      \"properties\": {\n        \"dtype\": \"number\",\n        \"std\": 0,\n        \"min\": 0,\n        \"max\": 1,\n        \"num_unique_values\": 2,\n        \"samples\": [\n          1,\n          0\n        ],\n        \"semantic_type\": \"\",\n        \"description\": \"\"\n      }\n    },\n    {\n      \"column\": \"Partner\",\n      \"properties\": {\n        \"dtype\": \"number\",\n        \"std\": 0,\n        \"min\": 0,\n        \"max\": 1,\n        \"num_unique_values\": 2,\n        \"samples\": [\n          0,\n          1\n        ],\n        \"semantic_type\": \"\",\n        \"description\": \"\"\n      }\n    },\n    {\n      \"column\": \"tenure\",\n      \"properties\": {\n        \"dtype\": \"number\",\n        \"std\": 24,\n        \"min\": 0,\n        \"max\": 72,\n        \"num_unique_values\": 73,\n        \"samples\": [\n          8,\n          40\n        ],\n        \"semantic_type\": \"\",\n        \"description\": \"\"\n      }\n    },\n    {\n      \"column\": \"PhoneService\",\n      \"properties\": {\n        \"dtype\": \"number\",\n        \"std\": 0,\n        \"min\": 0,\n        \"max\": 1,\n        \"num_unique_values\": 2,\n        \"samples\": [\n          1,\n          0\n        ],\n        \"semantic_type\": \"\",\n        \"description\": \"\"\n      }\n    },\n    {\n      \"column\": \"PaperlessBilling\",\n      \"properties\": {\n        \"dtype\": \"number\",\n        \"std\": 0,\n        \"min\": 0,\n        \"max\": 1,\n        \"num_unique_values\": 2,\n        \"samples\": [\n          0,\n          1\n        ],\n        \"semantic_type\": \"\",\n        \"description\": \"\"\n      }\n    },\n    {\n      \"column\": \"MonthlyCharges\",\n      \"properties\": {\n        \"dtype\": \"number\",\n        \"std\": 30.090047097678493,\n        \"min\": 18.25,\n        \"max\": 118.75,\n        \"num_unique_values\": 1585,\n        \"samples\": [\n          48.85,\n          20.05\n        ],\n        \"semantic_type\": \"\",\n        \"description\": \"\"\n      }\n    },\n    {\n      \"column\": \"Churn\",\n      \"properties\": {\n        \"dtype\": \"number\",\n        \"std\": 0,\n        \"min\": 0,\n        \"max\": 1,\n        \"num_unique_values\": 2,\n        \"samples\": [\n          1,\n          0\n        ],\n        \"semantic_type\": \"\",\n        \"description\": \"\"\n      }\n    }\n  ]\n}"
            }
          },
          "metadata": {},
          "execution_count": 16
        }
      ]
    },
    {
      "cell_type": "markdown",
      "source": [
        "Categorical variables must be recoded into a numeric integer in order to be modeled into a logistic regression model."
      ],
      "metadata": {
        "id": "UXAcD2i7XC2A"
      }
    },
    {
      "cell_type": "code",
      "source": [
        "# Check correlation, assuming that the data is of interval-ratio type.\n",
        "# Perform correlation value calculations by assuming the data is interval data.\n",
        "sns.heatmap(df.corr(),linewidths=.5,annot=True,cmap='RdYlGn')\n",
        "fig=plt.gcf()\n",
        "fig.set_size_inches(15,8)\n",
        "plt.show()"
      ],
      "metadata": {
        "colab": {
          "base_uri": "https://localhost:8080/",
          "height": 780
        },
        "id": "sSpAWqgXVKtJ",
        "outputId": "3fcc7614-fdb9-49eb-a4dd-d51181d458e8"
      },
      "execution_count": null,
      "outputs": [
        {
          "output_type": "display_data",
          "data": {
            "text/plain": [
              "<Figure size 1500x800 with 2 Axes>"
            ],
            "image/png": "[encoded data removed]"
          },
          "metadata": {}
        }
      ]
    },
    {
      "cell_type": "markdown",
      "source": [
        "If viewed based on the correlation matrix, the highest value is at a figure of more than absolute 0.3, which according to theory is generally sufficient to be said to have a strong correlation."
      ],
      "metadata": {
        "id": "j1wqdURiWRMg"
      }
    },
    {
      "cell_type": "markdown",
      "source": [
        "## 4. Building a Classification Model"
      ],
      "metadata": {
        "id": "3tOIMOQ0WSyh"
      }
    },
    {
      "cell_type": "markdown",
      "source": [
        "SHARING TRAINING TEST DATA"
      ],
      "metadata": {
        "id": "M0B1kTDwWZ49"
      }
    },
    {
      "cell_type": "code",
      "source": [
        "X = df.drop('Churn', axis=1)\n",
        "y = df['Churn']\n",
        "\n",
        "X_train, X_test, y_train, y_test = train_test_split(X, y, test_size=0.3, random_state=42)\n",
        "\n",
        "print(\"X Train : \", len(X_train))\n",
        "print(\"y Train : \", len(y_train))\n",
        "print(\"X Test : \", len(X_test))\n",
        "print(\"t Test : \", len(y_test))"
      ],
      "metadata": {
        "colab": {
          "base_uri": "https://localhost:8080/"
        },
        "id": "0xDQTM6-VKn4",
        "outputId": "abec1a76-fa18-47cb-f581-acb476e3a325"
      },
      "execution_count": null,
      "outputs": [
        {
          "output_type": "stream",
          "name": "stdout",
          "text": [
            "X Train :  4930\n",
            "y Train :  4930\n",
            "X Test :  2113\n",
            "t Test :  2113\n"
          ]
        }
      ]
    },
    {
      "cell_type": "markdown",
      "source": [
        "Using testing data amounting to 30 percent of the total data, and training data amounting to 70 percent of the total data."
      ],
      "metadata": {
        "id": "FUJ3FXXrWGuW"
      }
    },
    {
      "cell_type": "markdown",
      "source": [
        "![decision-tree-classification-algorithm.png](data:image/png;base64,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)"
      ],
      "metadata": {
        "id": "ttsC1duLVdpA"
      }
    },
    {
      "cell_type": "markdown",
      "source": [
        "Advantages of Decision Tree:\n",
        "- Easy to interpret: Boolean logic and representation of decision trees make it easy for users to understand and master them.\n",
        "\n",
        "- Minimal Data Preparation: Decision Tree can handle and handle various types of data—such as discrete or continuous, and continuous values ​​will be converted into categorical through limits/thresholds.\n",
        "\n",
        "- More Flexible: Decision trees can be used for classification and regression. In addition, Decision Tree is also insensitive to dependencies on relations or relationships between attributes."
      ],
      "metadata": {
        "id": "bnla5T3sV7_v"
      }
    },
    {
      "cell_type": "markdown",
      "source": [
        "Decision Tree Weaknesses:\n",
        "- Prone to overfitting: Complex decision tree algorithms tend to overfit and cannot optimally handle new data.\n",
        "\n",
        "- Sensitive to variance: variance in data can produce very different Decision Tree results.\n",
        "\n",
        "- More costly: with the approach of a complex Decision Tree algorithm, the Decision Tree resource will be greater than other algorithms."
      ],
      "metadata": {
        "id": "meRL2A-7Vxd2"
      }
    }
  ]
}