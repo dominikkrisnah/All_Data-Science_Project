{
  "cells": [
    {
      "cell_type": "markdown",
      "source": [
        "By: Dominikus Krisna Herlambang | ©2023"
      ],
      "metadata": {
        "id": "3JwcRgGFrxrD"
      }
    },
    {
      "cell_type": "markdown",
      "metadata": {
        "id": "NQFOqJQ4Shpz"
      },
      "source": [
        "## Metadata"
      ]
    },
    {
      "cell_type": "markdown",
      "metadata": {
        "id": "Gw6ovIEhSixz"
      },
      "source": [
        "Each row represents a customer, each column contains customer’s attributes described on the column Metadata.\n",
        "\n",
        "The data set includes information about:\n",
        "\n",
        "1. Customers who left within the last month – the column is called Churn\n",
        "2. Services that each customer has signed up for – phone, multiple lines, internet, online security, online backup, device protection, tech support, and streaming TV and movies\n",
        "3. Customer account information – how long they’ve been a customer, contract, payment method, paperless billing, monthly charges, and total charges\n",
        "4. Demographic info about customers – gender, age range, and if they have partners and dependents\n"
      ]
    },
    {
      "cell_type": "markdown",
      "metadata": {
        "id": "SICKKeRNSlOb"
      },
      "source": [
        "# Install & Load Library"
      ]
    },
    {
      "cell_type": "code",
      "execution_count": null,
      "metadata": {
        "id": "88tUibStmxnZ"
      },
      "outputs": [],
      "source": [
        "!pip install scikit-plot\n",
        "!pip install dataprep\n",
        "!pip install pycaret"
      ]
    },
    {
      "cell_type": "code",
      "execution_count": null,
      "metadata": {
        "id": "pOpxfFQPSpDL"
      },
      "outputs": [],
      "source": [
        "# load pandas for data wrangling\n",
        "import pandas as pd\n",
        "# load numpy for vector manipulation\n",
        "import numpy as np\n",
        "# load matplotlib for data visualization\n",
        "import matplotlib.pyplot as plt\n",
        "# load seaborn for data visualization\n",
        "import seaborn as sns\n",
        "# load dataprep.eda for data exploration\n",
        "from dataprep.eda import *\n",
        "\n",
        "# load train_test_split for divide the data into train dan test\n",
        "from sklearn.model_selection import train_test_split\n",
        "\n",
        "# import all classification models from pycaret\n",
        "from pycaret.classification import *\n",
        "\n",
        "# load scikitplot for metrik visualization\n",
        "import scikitplot as skplt\n",
        "\n",
        "%matplotlib inline"
      ]
    },
    {
      "cell_type": "markdown",
      "metadata": {
        "id": "YDkoysTvT_xy"
      },
      "source": [
        "# Load Dataset"
      ]
    },
    {
      "cell_type": "code",
      "source": [
        "raw_data = pd.read_csv(\"data_project/Project_3/telco_customer.csv\")\n",
        "raw_data"
      ],
      "metadata": {
        "id": "d9bAzRG-sokq"
      },
      "execution_count": null,
      "outputs": []
    },
    {
      "cell_type": "markdown",
      "metadata": {
        "id": "Zx7pXdp3WdOL"
      },
      "source": [
        "# Data Inspection"
      ]
    },
    {
      "cell_type": "code",
      "execution_count": null,
      "metadata": {
        "id": "iE0b5kDdWf1t"
      },
      "outputs": [],
      "source": [
        "# check data structure\n",
        "raw_data.info()"
      ]
    },
    {
      "cell_type": "markdown",
      "metadata": {
        "id": "mNoyxQUiWkB0"
      },
      "source": [
        "Check missing values"
      ]
    },
    {
      "cell_type": "code",
      "execution_count": null,
      "metadata": {
        "id": "HGBv-7plU8HE"
      },
      "outputs": [],
      "source": [
        "# plot missing value inside raw_data\n",
        "plot_missing(raw_data)"
      ]
    },
    {
      "cell_type": "markdown",
      "metadata": {
        "id": "MvNUJmypXz2c"
      },
      "source": [
        "But wait, it pretty strange that `TotalCharges` is `Object` data type, we need to change it to numeric data type."
      ]
    },
    {
      "cell_type": "code",
      "execution_count": null,
      "metadata": {
        "id": "mkUDPFDiW0hy"
      },
      "outputs": [],
      "source": [
        "raw_data['TotalCharges'] = pd.to_numeric(raw_data['TotalCharges'], errors = 'coerce')"
      ]
    },
    {
      "cell_type": "markdown",
      "metadata": {
        "id": "ZfNp27fRYBQB"
      },
      "source": [
        "Check again because probably the NA values will appear due to data type coersion"
      ]
    },
    {
      "cell_type": "code",
      "execution_count": null,
      "metadata": {
        "id": "dPURhj9VX_4h"
      },
      "outputs": [],
      "source": [
        "plot_missing(raw_data)"
      ]
    },
    {
      "cell_type": "code",
      "execution_count": null,
      "metadata": {
        "id": "WGazUG5QXaa2"
      },
      "outputs": [],
      "source": [
        "raw_data[raw_data['TotalCharges'].isna()]"
      ]
    },
    {
      "cell_type": "code",
      "execution_count": null,
      "metadata": {
        "id": "CJpPOKSrtAbg"
      },
      "outputs": [],
      "source": [
        "raw_data.query('tenure == 0')"
      ]
    },
    {
      "cell_type": "markdown",
      "metadata": {
        "id": "oM2zfIerXdXM"
      },
      "source": [
        "Because most of NA `TotalCharges` has 0 tenure, we can impute this value with `0`\n"
      ]
    },
    {
      "cell_type": "code",
      "execution_count": null,
      "metadata": {
        "id": "P0_0guSfYNY8"
      },
      "outputs": [],
      "source": [
        "raw_data[raw_data['TotalCharges'].isna()] = 0"
      ]
    },
    {
      "cell_type": "markdown",
      "metadata": {
        "id": "ZJn5uqXzYUvA"
      },
      "source": [
        "Check null values again"
      ]
    },
    {
      "cell_type": "code",
      "execution_count": null,
      "metadata": {
        "id": "-nfXDq3sYXw4"
      },
      "outputs": [],
      "source": [
        "plot_missing(raw_data).show()"
      ]
    },
    {
      "cell_type": "markdown",
      "metadata": {
        "id": "ItS0DHTZYi3P"
      },
      "source": [
        "Typecasting categorical variables into numeric"
      ]
    },
    {
      "cell_type": "code",
      "execution_count": null,
      "metadata": {
        "id": "mTDRSGZPYiJX"
      },
      "outputs": [],
      "source": [
        "# change gender 'Male' and 'Female' to 0 and 1\n",
        "raw_data['gender'].replace(['Male','Female'],[0,1],inplace=True)\n",
        "\n",
        "# change partner 'Yes' and 'No' to 1 and 0\n",
        "raw_data['Partner'].replace(['Yes','No'],[1,0],inplace=True)\n",
        "\n",
        "# change dependent 'Yes' and 'No' to 1 and 0\n",
        "raw_data['Dependents'].replace(['Yes','No'],[1,0],inplace=True)\n",
        "\n",
        "# change PhoneService 'Yes' and 'No' to 1 and 0\n",
        "raw_data['PhoneService'].replace(['Yes','No'],[1,0],inplace=True)\n",
        "\n",
        "# change MultipleLines 'No phonse service' and 'No' to 0 and 'Yes' to 1\n",
        "raw_data['MultipleLines'].replace(['No phone service','No', 'Yes'],[0,0,1],inplace=True)\n",
        "\n",
        "# change InternetService 'No', 'DSL', and 'Fiber Optic' to 0, 1, and 2\n",
        "raw_data['InternetService'].replace(['No','DSL','Fiber optic'],[0,1,2],inplace=True)\n",
        "\n",
        "# change OnlineSecurity 'No' and 'No internet service' to 0 and 'Yes' to 1\n",
        "raw_data['OnlineSecurity'].replace(['No','Yes','No internet service'],[0,1,0],inplace=True)\n",
        "\n",
        "# change OnlineBackup 'No' and 'No internet service' to 0 and 'Yes' to 1\n",
        "raw_data['OnlineBackup'].replace(['No','Yes','No internet service'],[0,1,0],inplace=True)\n",
        "\n",
        "# change DeviceProtection 'No' and 'No internet service' to 0 and 'Yes' to 1\n",
        "raw_data['DeviceProtection'].replace(['No','Yes','No internet service'],[0,1,0],inplace=True)\n",
        "\n",
        "# change TechSupport 'No' and 'No internet service' to 0 and 'Yes' to 1\n",
        "raw_data['TechSupport'].replace(['No','Yes','No internet service'],[0,1,0],inplace=True)\n",
        "\n",
        "# change StreamingTV 'No' and 'No internet service' to 0 and 'Yes' to 1\n",
        "raw_data['StreamingTV'].replace(['No','Yes','No internet service'],[0,1,0],inplace=True)\n",
        "\n",
        "# change StreamingMovies 'No' and 'No internet service' to 0 and 'Yes' to 1\n",
        "raw_data['StreamingMovies'].replace(['No','Yes','No internet service'],[0,1,0],inplace=True)\n",
        "\n",
        "# change Contract 'Month-to-month', 'One year', and 'Two year' to 0, 1, and 2\n",
        "raw_data['Contract'].replace(['Month-to-month', 'One year', 'Two year'],[0,1,2],inplace=True)\n",
        "\n",
        "# change PaperlessBilling 'Yes' and 'No' to 1 and 0\n",
        "raw_data['PaperlessBilling'].replace(['Yes','No'],[1,0],inplace=True)\n",
        "\n",
        "# change PaymentMethod 'Electronic check', 'Mailed check',\n",
        "# 'Bank transfer (automatic)', and 'Credit card (automatic)' to 0, 1, 2, and 3\n",
        "raw_data['PaymentMethod'].replace(['Electronic check', 'Mailed check', 'Bank transfer (automatic)','Credit card (automatic)'],[0,1,2,3],inplace=True)\n",
        "\n",
        "# change Churn 'Yes' and 'No' to 1 and 0\n",
        "raw_data['Churn'].replace(['Yes','No'],[1,0],inplace=True)"
      ]
    },
    {
      "cell_type": "markdown",
      "metadata": {
        "id": "2g1u4UH1YttY"
      },
      "source": [
        "Check new data structure"
      ]
    },
    {
      "cell_type": "code",
      "execution_count": null,
      "metadata": {
        "id": "BM76r6b9Yy_X"
      },
      "outputs": [],
      "source": [
        "raw_data.info()"
      ]
    },
    {
      "cell_type": "markdown",
      "metadata": {
        "id": "K5u6g6ZiY1V0"
      },
      "source": [
        "We need to remove Customer ID from dataset"
      ]
    },
    {
      "cell_type": "code",
      "execution_count": null,
      "metadata": {
        "id": "C_mUZ1DsY47z"
      },
      "outputs": [],
      "source": [
        "raw_data = raw_data.drop([\"customerID\"], axis = 1)"
      ]
    },
    {
      "cell_type": "markdown",
      "metadata": {
        "id": "iRZjzHGKY_ms"
      },
      "source": [
        "# Train-Test Split Data"
      ]
    },
    {
      "cell_type": "markdown",
      "metadata": {
        "id": "BEfUqadPZDGK"
      },
      "source": [
        "Split data before data exploration and engineering"
      ]
    },
    {
      "cell_type": "code",
      "execution_count": null,
      "metadata": {
        "id": "mMKaMVLZZnXa"
      },
      "outputs": [],
      "source": [
        "# define predictor variables\n",
        "X = raw_data.drop([\"Churn\"], axis = 1)\n",
        "# define target variable\n",
        "y = raw_data[\"Churn\"]"
      ]
    },
    {
      "cell_type": "code",
      "execution_count": null,
      "metadata": {
        "id": "6lLHRjmDZHh-"
      },
      "outputs": [],
      "source": [
        "# split data into train and test set\n",
        "X_train, X_test, y_train, y_test = train_test_split(\n",
        "    # using predictor from X\n",
        "    X,\n",
        "    # and target variabel from y\n",
        "    y,\n",
        "    # with test set size around 20%\n",
        "    test_size=0.2,\n",
        "    # use stratified sampling using y\n",
        "    stratify = y,\n",
        "    # seed random number generator\n",
        "    random_state=1000\n",
        ")"
      ]
    },
    {
      "cell_type": "code",
      "source": [
        "# check X_train and X_test dimension\n",
        "print(\"X_train dimension: \", X_train.shape)\n",
        "print(\"X_test dimension: \", X_test.shape)"
      ],
      "metadata": {
        "id": "SlP7rwdw3Hz_"
      },
      "execution_count": null,
      "outputs": []
    },
    {
      "cell_type": "code",
      "source": [
        "# check y_train and y_test dimension\n",
        "print(\"y_train dimension: \", y_train.shape)\n",
        "print(\"y_test dimension: \", y_test.shape)"
      ],
      "metadata": {
        "id": "DKihHJNA3UpW"
      },
      "execution_count": null,
      "outputs": []
    },
    {
      "cell_type": "markdown",
      "metadata": {
        "id": "eM2jPW61Z1vN"
      },
      "source": [
        "# Data Exploration"
      ]
    },
    {
      "cell_type": "code",
      "execution_count": null,
      "metadata": {
        "id": "IwZ0LBr4asBy"
      },
      "outputs": [],
      "source": [
        "# include y_train to X_train with name 'Churn'\n",
        "X_train[\"Churn\"] = y_train"
      ]
    },
    {
      "cell_type": "code",
      "source": [
        "# include y_test to X_test with name 'Churn'\n",
        "X_test[\"Churn\"] = y_test"
      ],
      "metadata": {
        "id": "u8eKfAoT7MqR"
      },
      "execution_count": null,
      "outputs": []
    },
    {
      "cell_type": "markdown",
      "metadata": {
        "id": "yufOc4psZ4di"
      },
      "source": [
        "Let's check target distribution"
      ]
    },
    {
      "cell_type": "code",
      "execution_count": null,
      "metadata": {
        "id": "n8Ol7UFbZ_Lz"
      },
      "outputs": [],
      "source": [
        "# visualize 'Churn' using catplot\n",
        "sns.catplot(x = \"Churn\", kind = \"count\", data = X_train);"
      ]
    },
    {
      "cell_type": "code",
      "execution_count": null,
      "metadata": {
        "id": "PddAhbKA-6CN"
      },
      "outputs": [],
      "source": [
        "# check the proportion of each category\n",
        "y_train.value_counts(normalize=True)"
      ]
    },
    {
      "cell_type": "code",
      "source": [
        "# visualize using plot from dataprep\n",
        "plot(X_train, 'Churn').show()"
      ],
      "metadata": {
        "id": "wGwJd2E12kKg"
      },
      "execution_count": null,
      "outputs": []
    },
    {
      "cell_type": "markdown",
      "metadata": {
        "id": "gqU7Ooppa4dd"
      },
      "source": [
        "We can observe there imbalance case in our dataset. We can solve this in two ways:\n",
        "\n",
        "- While modeling, by adding weight on model parameter\n",
        "- Post-modeling, by changing classification threhold to optimize metrics such as F1-Score, precision, recall, etc\n",
        "- Pre-modeling, by doing resamping such as oversampling, downsampling, and mixed sampling\n",
        "\n",
        "We gonna do pre-modelling oversampling if necessary\n",
        "\n",
        "Next we gonna check multicolinearity for each variable\n"
      ]
    },
    {
      "cell_type": "code",
      "execution_count": null,
      "metadata": {
        "id": "CRqrw5MVX1as"
      },
      "outputs": [],
      "source": [
        "# plot correlation matrix\n",
        "plot_correlation(X_train)"
      ]
    },
    {
      "cell_type": "code",
      "execution_count": null,
      "metadata": {
        "id": "iMPdK2c8YbSw"
      },
      "outputs": [],
      "source": [
        "# plot scatter plot\n",
        "plot_correlation(X_train, \"InternetService\", \"MonthlyCharges\")"
      ]
    },
    {
      "cell_type": "code",
      "execution_count": null,
      "metadata": {
        "id": "loNrsIyuYoWm"
      },
      "outputs": [],
      "source": [
        "# plot correlation matrix tiap variabel terhadap Churn\n",
        "plot_correlation(X_train, \"Churn\")"
      ]
    },
    {
      "cell_type": "markdown",
      "metadata": {
        "id": "kLjy8NkIbqgA"
      },
      "source": [
        "We observe multiple multicolinearity between predictor variables such as tenure vs Total charges, Contract vs Tenure, StreamingTV vs MonthlyCharges, etc."
      ]
    },
    {
      "cell_type": "markdown",
      "metadata": {
        "id": "MpTmYcbTcmNN"
      },
      "source": [
        "## Predictors vs Target Variable"
      ]
    },
    {
      "cell_type": "code",
      "execution_count": null,
      "metadata": {
        "id": "G9P1z-7uW-pv"
      },
      "outputs": [],
      "source": [
        "for feature in ['gender', 'SeniorCitizen', 'Partner', 'MonthlyCharges']:\n",
        "    plot(X_train, feature, 'Churn').show()"
      ]
    },
    {
      "cell_type": "markdown",
      "source": [
        "**Interpretation**\n",
        "\n",
        "1. Gender seems have no impact on Churn since the ratio of Churn between both gender pretty close or look-alike.\n",
        "\n",
        "2. For Senior Citizen, they have tendency to churn compared to non-Senior Citizen\n",
        "\n",
        "3. People who live with their partner (or has partner) has low tendency to churn compared to people who has no partner\n",
        "\n",
        "4. People who churn has higher Monthly charge compared to people who not churn, though the differences both not so obvious\n"
      ],
      "metadata": {
        "id": "2oNujIlA3u-g"
      }
    },
    {
      "cell_type": "markdown",
      "metadata": {
        "id": "3nqfKtKhaWQg"
      },
      "source": [
        "## Task"
      ]
    },
    {
      "cell_type": "markdown",
      "metadata": {
        "id": "AZmicR_NaXrp"
      },
      "source": [
        "Do analysis to others predictors. Check the correlation between predictors and target variable and give your opinion on why certain variable need to be used/removed from analysis based on your analysis."
      ]
    },
    {
      "cell_type": "markdown",
      "metadata": {
        "id": "t4_0DH8GaspW"
      },
      "source": [
        "___"
      ]
    },
    {
      "cell_type": "markdown",
      "metadata": {
        "id": "pQIcVe2SaxzC"
      },
      "source": [
        "Also, we need to drop predictors, if any, from both `X_train` and `X_test`"
      ]
    },
    {
      "cell_type": "code",
      "execution_count": null,
      "metadata": {
        "id": "byPNmJYAa-pr"
      },
      "outputs": [],
      "source": [
        "removed_features = ['gender', 'StreamingTV', 'PaymentMethod', 'tenure', 'TechSupport', 'DeviceProtection']\n",
        "X_train = X_train.drop(removed_features, axis = 1)\n",
        "X_test = X_test.drop(removed_features, axis = 1)"
      ]
    },
    {
      "cell_type": "markdown",
      "metadata": {
        "id": "VsSangN7laox"
      },
      "source": [
        "# Modeling"
      ]
    },
    {
      "cell_type": "markdown",
      "metadata": {
        "id": "5Kr_uW58llyY"
      },
      "source": [
        "## Define Model"
      ]
    },
    {
      "cell_type": "markdown",
      "metadata": {
        "id": "ArshjO5ClnKU"
      },
      "source": [
        "We will use **all** models we have to check which model has higher accuracy compared to other. It can be helped by using PyCaret package."
      ]
    },
    {
      "cell_type": "code",
      "execution_count": null,
      "metadata": {
        "id": "qzU-xqcZAbB4"
      },
      "outputs": [],
      "source": [
        "s = setup(X_train, test_data = X_test, target = 'Churn', session_id = 1)"
      ]
    },
    {
      "cell_type": "markdown",
      "source": [
        "How many models we can use and test? As many as possible! We can check models we used for training by calling `models`:"
      ],
      "metadata": {
        "id": "aIAKDoAF-yBz"
      }
    },
    {
      "cell_type": "code",
      "source": [
        "models()"
      ],
      "metadata": {
        "id": "Bd01hIZa-wus"
      },
      "execution_count": null,
      "outputs": []
    },
    {
      "cell_type": "markdown",
      "metadata": {
        "id": "9i_UQ9HglqdF"
      },
      "source": [
        "Then we build the model by calling `compare_models`:"
      ]
    },
    {
      "cell_type": "code",
      "execution_count": null,
      "metadata": {
        "id": "9HKZwzRKlryt"
      },
      "outputs": [],
      "source": [
        "# compare baseline models\n",
        "best = compare_models()"
      ]
    },
    {
      "cell_type": "code",
      "source": [
        "# check best model\n",
        "best"
      ],
      "metadata": {
        "id": "tAwbdiV85_cO"
      },
      "execution_count": null,
      "outputs": []
    },
    {
      "cell_type": "markdown",
      "metadata": {
        "id": "ZFjWPVnbo0tg"
      },
      "source": [
        "## Model Evaluation"
      ]
    },
    {
      "cell_type": "code",
      "execution_count": null,
      "metadata": {
        "id": "EJCWydXBo11i"
      },
      "outputs": [],
      "source": [
        "# plot confusion matrix\n",
        "plot_model(best, plot = 'confusion_matrix')"
      ]
    },
    {
      "cell_type": "code",
      "source": [
        "# plot AUC\n",
        "plot_model(best, plot = 'auc')"
      ],
      "metadata": {
        "id": "JEQxSbqV6GsI"
      },
      "execution_count": null,
      "outputs": []
    },
    {
      "cell_type": "code",
      "source": [
        "# plot feature importance\n",
        "plot_model(best, plot = 'feature')"
      ],
      "metadata": {
        "id": "H0nt2Y8A6Iuj"
      },
      "execution_count": null,
      "outputs": []
    },
    {
      "cell_type": "code",
      "source": [
        "# plot feature importance\n",
        "plot_model(best, plot = 'lift')"
      ],
      "metadata": {
        "id": "JLSkf2636KG0"
      },
      "execution_count": null,
      "outputs": []
    },
    {
      "cell_type": "code",
      "source": [
        "# plot feature importance\n",
        "plot_model(best, plot = 'gain')"
      ],
      "metadata": {
        "id": "f_4CgHmu6Naf"
      },
      "execution_count": null,
      "outputs": []
    },
    {
      "cell_type": "code",
      "source": [
        "# predict on test set\n",
        "test_data_pred = predict_model(best)"
      ],
      "metadata": {
        "id": "FcJoPoHR7xUT"
      },
      "execution_count": null,
      "outputs": []
    },
    {
      "cell_type": "code",
      "source": [
        "# show predictions df\n",
        "test_data_pred.head()"
      ],
      "metadata": {
        "id": "BuhueXVD760w"
      },
      "execution_count": null,
      "outputs": []
    },
    {
      "cell_type": "markdown",
      "source": [
        "## Task"
      ],
      "metadata": {
        "id": "kN261h6R7_JQ"
      }
    },
    {
      "cell_type": "markdown",
      "source": [
        "Do you satisfied the result? If not, let's play with the model! Use multiple combination of parameters we can set in PyCaret. Check the documentation by calling `help(setup)`."
      ],
      "metadata": {
        "id": "L92upHui8SXS"
      }
    },
    {
      "cell_type": "code",
      "source": [
        "s = setup(\n",
        "    X_train,\n",
        "    test_data = X_test,\n",
        "    target = 'Churn',\n",
        "    session_id = 1,\n",
        "    # only change parameter blow this comment\n",
        "    polynomial_features = False,\n",
        "    remove_multicollinearity = False,\n",
        "    remove_outliers = False,\n",
        "    fix_imbalance = False,\n",
        "    normalize = False,\n",
        "    feature_selection = False\n",
        ")"
      ],
      "metadata": {
        "id": "OEpKBWRp_R2T"
      },
      "execution_count": null,
      "outputs": []
    },
    {
      "cell_type": "code",
      "source": [
        "help(setup)"
      ],
      "metadata": {
        "id": "dF5bKQ44AdWl"
      },
      "execution_count": null,
      "outputs": []
    },
    {
      "cell_type": "markdown",
      "source": [
        "## Save and Load Model"
      ],
      "metadata": {
        "id": "K7f8Ldxq8UGN"
      }
    },
    {
      "cell_type": "markdown",
      "source": [
        "To save the model we already build, we can call `save_model` such as:"
      ],
      "metadata": {
        "id": "bCJuB1Xp8dA5"
      }
    },
    {
      "cell_type": "code",
      "source": [
        "# save pipeline\n",
        "save_model(best, 'best_model')"
      ],
      "metadata": {
        "id": "8jLuyMoB8WnP"
      },
      "execution_count": null,
      "outputs": []
    },
    {
      "cell_type": "code",
      "source": [
        "# load model\n",
        "best_model_loaded = load_model('best_model')"
      ],
      "metadata": {
        "id": "puUFaXfI8Z_C"
      },
      "execution_count": null,
      "outputs": []
    },
    {
      "cell_type": "code",
      "source": [
        "# check best_model_loaded\n",
        "best_model_loaded"
      ],
      "metadata": {
        "id": "s_W18AQ98nvO"
      },
      "execution_count": null,
      "outputs": []
    }
  ],
  "metadata": {
    "colab": {
      "provenance": []
    },
    "kernelspec": {
      "display_name": "Python 3",
      "name": "python3"
    },
    "language_info": {
      "name": "python"
    }
  },
  "nbformat": 4,
  "nbformat_minor": 0
}